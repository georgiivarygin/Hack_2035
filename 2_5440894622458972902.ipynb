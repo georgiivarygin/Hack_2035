{
 "cells": [
  {
   "cell_type": "markdown",
   "metadata": {},
   "source": [
    "##### ФИО: Дубровный Николай Андреевич"
   ]
  },
  {
   "cell_type": "code",
   "execution_count": 1,
   "metadata": {},
   "outputs": [],
   "source": [
    "## Импортируем необходимые библиотеки\n",
    "import pandas as pd\n",
    "import numpy as np\n",
    "from matplotlib import pyplot as plt\n",
    "from sklearn import model_selection,ensemble,linear_model,metrics\n",
    "import math\n",
    "%matplotlib inline"
   ]
  },
  {
   "cell_type": "code",
   "execution_count": 2,
   "metadata": {},
   "outputs": [],
   "source": [
    "## Загружаем данные в DataFrame\n",
    "data = pd.read_csv('data_devim.csv', sep=';')"
   ]
  },
  {
   "cell_type": "code",
   "execution_count": 3,
   "metadata": {},
   "outputs": [
    {
     "data": {
      "text/html": [
       "<div>\n",
       "<style scoped>\n",
       "    .dataframe tbody tr th:only-of-type {\n",
       "        vertical-align: middle;\n",
       "    }\n",
       "\n",
       "    .dataframe tbody tr th {\n",
       "        vertical-align: top;\n",
       "    }\n",
       "\n",
       "    .dataframe thead th {\n",
       "        text-align: right;\n",
       "    }\n",
       "</style>\n",
       "<table border=\"1\" class=\"dataframe\">\n",
       "  <thead>\n",
       "    <tr style=\"text-align: right;\">\n",
       "      <th></th>\n",
       "      <th>closed_cred_sum</th>\n",
       "      <th>closed_creds</th>\n",
       "      <th>active_cred_sum_overdue</th>\n",
       "      <th>active_cred_sum</th>\n",
       "      <th>active_cred_day_overdue</th>\n",
       "      <th>active_cred_max_overdue</th>\n",
       "      <th>age</th>\n",
       "      <th>gender</th>\n",
       "      <th>region</th>\n",
       "      <th>first_loan</th>\n",
       "      <th>loan_cost_all</th>\n",
       "      <th>first_days_quant</th>\n",
       "      <th>month_income</th>\n",
       "      <th>order_date</th>\n",
       "      <th>cost_all</th>\n",
       "      <th>order_id</th>\n",
       "      <th>client_id</th>\n",
       "      <th>expert</th>\n",
       "    </tr>\n",
       "  </thead>\n",
       "  <tbody>\n",
       "    <tr>\n",
       "      <th>0</th>\n",
       "      <td>143822.0</td>\n",
       "      <td>22</td>\n",
       "      <td>104.12</td>\n",
       "      <td>130068.80</td>\n",
       "      <td>8</td>\n",
       "      <td>756.09</td>\n",
       "      <td>31</td>\n",
       "      <td>0</td>\n",
       "      <td>36</td>\n",
       "      <td>10000.0</td>\n",
       "      <td>10000</td>\n",
       "      <td>196</td>\n",
       "      <td>0.0</td>\n",
       "      <td>2017-07-23</td>\n",
       "      <td>0.0</td>\n",
       "      <td>728319</td>\n",
       "      <td>320464</td>\n",
       "      <td>1</td>\n",
       "    </tr>\n",
       "    <tr>\n",
       "      <th>1</th>\n",
       "      <td>0.0</td>\n",
       "      <td>0</td>\n",
       "      <td>38151.93</td>\n",
       "      <td>46230.00</td>\n",
       "      <td>1492</td>\n",
       "      <td>38151.93</td>\n",
       "      <td>51</td>\n",
       "      <td>0</td>\n",
       "      <td>93</td>\n",
       "      <td>10000.0</td>\n",
       "      <td>10000</td>\n",
       "      <td>17</td>\n",
       "      <td>20000.0</td>\n",
       "      <td>2017-07-23</td>\n",
       "      <td>0.0</td>\n",
       "      <td>728321</td>\n",
       "      <td>320466</td>\n",
       "      <td>1</td>\n",
       "    </tr>\n",
       "    <tr>\n",
       "      <th>2</th>\n",
       "      <td>51356.0</td>\n",
       "      <td>2</td>\n",
       "      <td>3000.00</td>\n",
       "      <td>3000.00</td>\n",
       "      <td>8</td>\n",
       "      <td>3000.00</td>\n",
       "      <td>28</td>\n",
       "      <td>1</td>\n",
       "      <td>3</td>\n",
       "      <td>10000.0</td>\n",
       "      <td>10000</td>\n",
       "      <td>84</td>\n",
       "      <td>0.0</td>\n",
       "      <td>2017-07-23</td>\n",
       "      <td>0.0</td>\n",
       "      <td>728323</td>\n",
       "      <td>320467</td>\n",
       "      <td>1</td>\n",
       "    </tr>\n",
       "    <tr>\n",
       "      <th>3</th>\n",
       "      <td>0.0</td>\n",
       "      <td>0</td>\n",
       "      <td>22784.19</td>\n",
       "      <td>32103.52</td>\n",
       "      <td>913</td>\n",
       "      <td>22784.19</td>\n",
       "      <td>28</td>\n",
       "      <td>0</td>\n",
       "      <td>52</td>\n",
       "      <td>10000.0</td>\n",
       "      <td>10000</td>\n",
       "      <td>7</td>\n",
       "      <td>0.0</td>\n",
       "      <td>2017-07-23</td>\n",
       "      <td>0.0</td>\n",
       "      <td>728447</td>\n",
       "      <td>320533</td>\n",
       "      <td>1</td>\n",
       "    </tr>\n",
       "    <tr>\n",
       "      <th>4</th>\n",
       "      <td>12298.0</td>\n",
       "      <td>1</td>\n",
       "      <td>4942.95</td>\n",
       "      <td>4950.00</td>\n",
       "      <td>2883</td>\n",
       "      <td>4942.95</td>\n",
       "      <td>31</td>\n",
       "      <td>0</td>\n",
       "      <td>47</td>\n",
       "      <td>5000.0</td>\n",
       "      <td>5000</td>\n",
       "      <td>20</td>\n",
       "      <td>0.0</td>\n",
       "      <td>2017-07-23</td>\n",
       "      <td>0.0</td>\n",
       "      <td>728421</td>\n",
       "      <td>298598</td>\n",
       "      <td>1</td>\n",
       "    </tr>\n",
       "  </tbody>\n",
       "</table>\n",
       "</div>"
      ],
      "text/plain": [
       "   closed_cred_sum  closed_creds  active_cred_sum_overdue  active_cred_sum  \\\n",
       "0         143822.0            22                   104.12        130068.80   \n",
       "1              0.0             0                 38151.93         46230.00   \n",
       "2          51356.0             2                  3000.00          3000.00   \n",
       "3              0.0             0                 22784.19         32103.52   \n",
       "4          12298.0             1                  4942.95          4950.00   \n",
       "\n",
       "   active_cred_day_overdue  active_cred_max_overdue  age  gender  region  \\\n",
       "0                        8                   756.09   31       0      36   \n",
       "1                     1492                 38151.93   51       0      93   \n",
       "2                        8                  3000.00   28       1       3   \n",
       "3                      913                 22784.19   28       0      52   \n",
       "4                     2883                  4942.95   31       0      47   \n",
       "\n",
       "   first_loan  loan_cost_all  first_days_quant  month_income  order_date  \\\n",
       "0     10000.0          10000               196           0.0  2017-07-23   \n",
       "1     10000.0          10000                17       20000.0  2017-07-23   \n",
       "2     10000.0          10000                84           0.0  2017-07-23   \n",
       "3     10000.0          10000                 7           0.0  2017-07-23   \n",
       "4      5000.0           5000                20           0.0  2017-07-23   \n",
       "\n",
       "   cost_all  order_id  client_id  expert  \n",
       "0       0.0    728319     320464       1  \n",
       "1       0.0    728321     320466       1  \n",
       "2       0.0    728323     320467       1  \n",
       "3       0.0    728447     320533       1  \n",
       "4       0.0    728421     298598       1  "
      ]
     },
     "execution_count": 3,
     "metadata": {},
     "output_type": "execute_result"
    }
   ],
   "source": [
    "## Посмотрим как выглядит наш DataFrame\n",
    "data.head()"
   ]
  },
  {
   "cell_type": "code",
   "execution_count": 4,
   "metadata": {
    "scrolled": true
   },
   "outputs": [
    {
     "name": "stdout",
     "output_type": "stream",
     "text": [
      "<class 'pandas.core.frame.DataFrame'>\n",
      "RangeIndex: 50001 entries, 0 to 50000\n",
      "Data columns (total 18 columns):\n",
      " #   Column                   Non-Null Count  Dtype  \n",
      "---  ------                   --------------  -----  \n",
      " 0   closed_cred_sum          50001 non-null  float64\n",
      " 1   closed_creds             50001 non-null  int64  \n",
      " 2   active_cred_sum_overdue  50001 non-null  float64\n",
      " 3   active_cred_sum          50001 non-null  float64\n",
      " 4   active_cred_day_overdue  50001 non-null  int64  \n",
      " 5   active_cred_max_overdue  50001 non-null  float64\n",
      " 6   age                      50001 non-null  int64  \n",
      " 7   gender                   50001 non-null  int64  \n",
      " 8   region                   50001 non-null  int64  \n",
      " 9   first_loan               49982 non-null  float64\n",
      " 10  loan_cost_all            50001 non-null  int64  \n",
      " 11  first_days_quant         50001 non-null  int64  \n",
      " 12  month_income             50001 non-null  float64\n",
      " 13  order_date               50001 non-null  object \n",
      " 14  cost_all                 50001 non-null  float64\n",
      " 15  order_id                 50001 non-null  int64  \n",
      " 16  client_id                50001 non-null  int64  \n",
      " 17  expert                   50001 non-null  int64  \n",
      "dtypes: float64(7), int64(10), object(1)\n",
      "memory usage: 9.7 MB\n"
     ]
    }
   ],
   "source": [
    "## Посмотрим общую информацию\n",
    "data.info(memory_usage = 'deep')"
   ]
  },
  {
   "cell_type": "markdown",
   "metadata": {},
   "source": [
    "Большинство объектов представленно в формате float или int - числовые признаки  \n",
    "Один признак - категориальный (order_date) - это дата подачи заявки  \n",
    "пропущенные значения есть только у одного признака (first_loan) желаемая сумма для получения"
   ]
  },
  {
   "cell_type": "code",
   "execution_count": 5,
   "metadata": {},
   "outputs": [],
   "source": [
    "## преобразуем формат даты в datetime\n",
    "data.order_date = pd.to_datetime(data.order_date)"
   ]
  },
  {
   "cell_type": "code",
   "execution_count": 6,
   "metadata": {},
   "outputs": [
    {
     "name": "stdout",
     "output_type": "stream",
     "text": [
      "2017-06-26 00:00:00\n",
      "2017-09-25 00:00:00\n"
     ]
    }
   ],
   "source": [
    "## Сразу посмотрим на дату первой и последней заявки\n",
    "print (data.order_date.min())\n",
    "print (data.order_date.max())"
   ]
  },
  {
   "cell_type": "code",
   "execution_count": 7,
   "metadata": {},
   "outputs": [],
   "source": [
    "## Видим, что данные предоставлены за 4 месяца 2017 года\n",
    "## Отсортируем DataFrame в порядке возрастания даты\n",
    "data = data.sort_values(by = 'order_date').reset_index(drop = True)"
   ]
  },
  {
   "cell_type": "code",
   "execution_count": 8,
   "metadata": {},
   "outputs": [],
   "source": [
    "## В задании указано, что метка 0 соответствует классу (одобрено)\n",
    "## а метка 1 - отказано\n",
    "## поменяем метки местами для более привычного восприятия\n",
    "mapping = {1:0,0:1}\n",
    "data.expert.replace(mapping, inplace = True)"
   ]
  },
  {
   "cell_type": "code",
   "execution_count": 9,
   "metadata": {},
   "outputs": [
    {
     "data": {
      "text/plain": [
       "closed_cred_sum            25314\n",
       "closed_creds                 166\n",
       "active_cred_sum_overdue    20189\n",
       "active_cred_sum            25138\n",
       "active_cred_day_overdue     4719\n",
       "active_cred_max_overdue    21721\n",
       "age                           68\n",
       "gender                         2\n",
       "region                        99\n",
       "first_loan                    69\n",
       "loan_cost_all                117\n",
       "first_days_quant              39\n",
       "month_income                 247\n",
       "order_date                    80\n",
       "cost_all                    2561\n",
       "order_id                   42857\n",
       "client_id                  40159\n",
       "expert                         2\n",
       "dtype: int64"
      ]
     },
     "execution_count": 9,
     "metadata": {},
     "output_type": "execute_result"
    }
   ],
   "source": [
    "## Посмотрим на количество уникальных значений\n",
    "data.nunique()"
   ]
  },
  {
   "cell_type": "code",
   "execution_count": 10,
   "metadata": {},
   "outputs": [
    {
     "data": {
      "text/plain": [
       "168      True\n",
       "323      True\n",
       "394      True\n",
       "400      True\n",
       "404      True\n",
       "         ... \n",
       "49993    True\n",
       "49996    True\n",
       "49998    True\n",
       "49999    True\n",
       "50000    True\n",
       "Length: 7058, dtype: bool"
      ]
     },
     "execution_count": 10,
     "metadata": {},
     "output_type": "execute_result"
    }
   ],
   "source": [
    "## Видим, что количество клиентов меньше, чем количество объектов,\n",
    "## поэтому проверим нет ли дубликатов в нашем DataFrame\n",
    "data.duplicated()[data.duplicated() == True]"
   ]
  },
  {
   "cell_type": "code",
   "execution_count": 11,
   "metadata": {},
   "outputs": [],
   "source": [
    "## 7058 дубликатов нашли, удалим дубликаты\n",
    "data.drop_duplicates(inplace = True)"
   ]
  },
  {
   "cell_type": "markdown",
   "metadata": {},
   "source": [
    "Количество клиентов по-прежнему меньше, чем количество объектов - значит, что некоторые клиенты несколько раз подавали заявку на кредит"
   ]
  },
  {
   "cell_type": "code",
   "execution_count": 13,
   "metadata": {},
   "outputs": [
    {
     "name": "stdout",
     "output_type": "stream",
     "text": [
      "<class 'pandas.core.frame.DataFrame'>\n",
      "Int64Index: 42943 entries, 0 to 49997\n",
      "Data columns (total 18 columns):\n",
      " #   Column                   Non-Null Count  Dtype         \n",
      "---  ------                   --------------  -----         \n",
      " 0   closed_cred_sum          42943 non-null  float64       \n",
      " 1   closed_creds             42943 non-null  int64         \n",
      " 2   active_cred_sum_overdue  42943 non-null  float64       \n",
      " 3   active_cred_sum          42943 non-null  float64       \n",
      " 4   active_cred_day_overdue  42943 non-null  int64         \n",
      " 5   active_cred_max_overdue  42943 non-null  float64       \n",
      " 6   age                      42943 non-null  int64         \n",
      " 7   gender                   42943 non-null  int64         \n",
      " 8   region                   42943 non-null  int64         \n",
      " 9   first_loan               42926 non-null  float64       \n",
      " 10  loan_cost_all            42943 non-null  int64         \n",
      " 11  first_days_quant         42943 non-null  int64         \n",
      " 12  month_income             42943 non-null  float64       \n",
      " 13  order_date               42943 non-null  datetime64[ns]\n",
      " 14  cost_all                 42943 non-null  float64       \n",
      " 15  order_id                 42943 non-null  int64         \n",
      " 16  client_id                42943 non-null  int64         \n",
      " 17  expert                   42943 non-null  int64         \n",
      "dtypes: datetime64[ns](1), float64(7), int64(10)\n",
      "memory usage: 6.2 MB\n"
     ]
    }
   ],
   "source": [
    "## Еще раз посмотрим общую информацию\n",
    "data.info()"
   ]
  },
  {
   "cell_type": "code",
   "execution_count": 14,
   "metadata": {},
   "outputs": [],
   "source": [
    "## Переиндексируем DataFrame\n",
    "data = data.reset_index(drop = True)"
   ]
  },
  {
   "cell_type": "code",
   "execution_count": 15,
   "metadata": {},
   "outputs": [
    {
     "name": "stdout",
     "output_type": "stream",
     "text": [
      "[699736 826660 754277 752370 744191 752401 744976 749765 757155 751601\n",
      " 757998 748832 743215 758171 759041 747027 827110 827129 744226 710321\n",
      " 839607 748198 755645 757511 759391 744759 757845 744382 744380 700600\n",
      " 717220 748145 725759 755455 717208 739151 748692 725692 827209 749630\n",
      " 745117 828630 711946 758770 752757 750991 830428 747596 756756 828858\n",
      " 745118 719967 828999 754843 756625 829690 752911 829141 756512 831073\n",
      " 756861 753108 747830 758963 831968 745835 827563 827570 747156 758323\n",
      " 753197 752619 827858 747211 827874 756400 828034 746574 829456 757613\n",
      " 748424 748338 718890 755725 840280 742694]\n"
     ]
    }
   ],
   "source": [
    "## Заметим, что количество строк больше, чем количество уникальных заявок\n",
    "## Отберем номера заявок, которые встречаются больше 1 раза\n",
    "order_numbers = data.groupby('order_id')['client_id'].count().sort_values(ascending=False)[\n",
    "            data.groupby('order_id')['client_id'].count().sort_values(ascending=False)>1].reset_index()['order_id'].values\n",
    "print (order_numbers)"
   ]
  },
  {
   "cell_type": "code",
   "execution_count": 16,
   "metadata": {},
   "outputs": [
    {
     "name": "stdout",
     "output_type": "stream",
     "text": [
      "[ 2657  2658  2824  2825  9629  9630  9790  9791 13362 13363 13411 13412\n",
      " 14317 14325 15711 15712 18794 18795 18796 18797 26331 26332 29249 29250\n",
      " 29846 29847 29915 29924 29925 29926 30124 30126 30509 30510 30768 30783\n",
      " 31056 31057 31341 31343 31344 31358 31477 31478 31970 31971 32052 32067\n",
      " 32157 32383 32581 32582 32818 32819 32834 32835 32935 32936 32982 32983\n",
      " 33040 33055 33217 33218 33490 33491 33754 33755 34710 34718 34757 34764\n",
      " 35167 35168 35656 35701 35999 36004 36094 36095 36147 36148 36229 36230\n",
      " 36236 36237 36706 36707 37051 37052 37173 37180 38430 38436 38536 38548\n",
      " 38911 38912 39037 39038 39239 39240 39249 39250 39411 39412 39453 39454\n",
      " 39619 39620 39804 39805 39910 39928 40133 40134 40581 40582 40605 40606\n",
      " 40736 40737 40889 40890 41176 41177 41346 41347 41436 41437 41475 41476\n",
      " 41877 41878 41896 41905 41962 41963 42004 42008 42009 42022 42024 42036\n",
      " 42038 42043 42067 42105 42106 42107 42118 42119 42139 42140 42153 42154\n",
      " 42164 42176 42191 42217 42250 42251 42317 42326 42525 42526 42567 42568\n",
      " 42850 42851 42934 42935]\n"
     ]
    }
   ],
   "source": [
    "## Отберем индексы повторяющихся заявок\n",
    "repeat_order_index = data.isin(order_numbers)[data.isin(order_numbers).order_id].index.values\n",
    "print (repeat_order_index)"
   ]
  },
  {
   "cell_type": "code",
   "execution_count": 216,
   "metadata": {},
   "outputs": [
    {
     "data": {
      "text/html": [
       "<div>\n",
       "<style scoped>\n",
       "    .dataframe tbody tr th:only-of-type {\n",
       "        vertical-align: middle;\n",
       "    }\n",
       "\n",
       "    .dataframe tbody tr th {\n",
       "        vertical-align: top;\n",
       "    }\n",
       "\n",
       "    .dataframe thead th {\n",
       "        text-align: right;\n",
       "    }\n",
       "</style>\n",
       "<table border=\"1\" class=\"dataframe\">\n",
       "  <thead>\n",
       "    <tr style=\"text-align: right;\">\n",
       "      <th></th>\n",
       "      <th>closed_cred_sum</th>\n",
       "      <th>closed_creds</th>\n",
       "      <th>active_cred_sum_overdue</th>\n",
       "      <th>active_cred_sum</th>\n",
       "      <th>active_cred_day_overdue</th>\n",
       "      <th>active_cred_max_overdue</th>\n",
       "      <th>age</th>\n",
       "      <th>gender</th>\n",
       "      <th>region</th>\n",
       "      <th>first_loan</th>\n",
       "      <th>loan_cost_all</th>\n",
       "      <th>first_days_quant</th>\n",
       "      <th>month_income</th>\n",
       "      <th>order_date</th>\n",
       "      <th>cost_all</th>\n",
       "      <th>order_id</th>\n",
       "      <th>client_id</th>\n",
       "      <th>expert</th>\n",
       "    </tr>\n",
       "  </thead>\n",
       "  <tbody>\n",
       "    <tr>\n",
       "      <th>2641</th>\n",
       "      <td>1166889.00</td>\n",
       "      <td>35</td>\n",
       "      <td>30932.64</td>\n",
       "      <td>208000.00</td>\n",
       "      <td>377</td>\n",
       "      <td>30932.64</td>\n",
       "      <td>41</td>\n",
       "      <td>0</td>\n",
       "      <td>0</td>\n",
       "      <td>7000.0</td>\n",
       "      <td>6000</td>\n",
       "      <td>7</td>\n",
       "      <td>30000.0</td>\n",
       "      <td>2017-06-29</td>\n",
       "      <td>6915.6</td>\n",
       "      <td>700600</td>\n",
       "      <td>154353</td>\n",
       "      <td>1</td>\n",
       "    </tr>\n",
       "    <tr>\n",
       "      <th>2806</th>\n",
       "      <td>284608.15</td>\n",
       "      <td>24</td>\n",
       "      <td>0.00</td>\n",
       "      <td>95500.00</td>\n",
       "      <td>0</td>\n",
       "      <td>0.00</td>\n",
       "      <td>30</td>\n",
       "      <td>0</td>\n",
       "      <td>0</td>\n",
       "      <td>8000.0</td>\n",
       "      <td>5500</td>\n",
       "      <td>7</td>\n",
       "      <td>50000.0</td>\n",
       "      <td>2017-06-29</td>\n",
       "      <td>0.0</td>\n",
       "      <td>699736</td>\n",
       "      <td>305642</td>\n",
       "      <td>1</td>\n",
       "    </tr>\n",
       "    <tr>\n",
       "      <th>9576</th>\n",
       "      <td>226574.40</td>\n",
       "      <td>13</td>\n",
       "      <td>0.00</td>\n",
       "      <td>11000.00</td>\n",
       "      <td>0</td>\n",
       "      <td>0.00</td>\n",
       "      <td>30</td>\n",
       "      <td>0</td>\n",
       "      <td>3</td>\n",
       "      <td>4000.0</td>\n",
       "      <td>4000</td>\n",
       "      <td>10</td>\n",
       "      <td>45000.0</td>\n",
       "      <td>2017-07-07</td>\n",
       "      <td>4872.0</td>\n",
       "      <td>710321</td>\n",
       "      <td>277780</td>\n",
       "      <td>1</td>\n",
       "    </tr>\n",
       "    <tr>\n",
       "      <th>9736</th>\n",
       "      <td>74338.00</td>\n",
       "      <td>5</td>\n",
       "      <td>12837.37</td>\n",
       "      <td>50997.30</td>\n",
       "      <td>706</td>\n",
       "      <td>8000.00</td>\n",
       "      <td>39</td>\n",
       "      <td>1</td>\n",
       "      <td>65</td>\n",
       "      <td>5000.0</td>\n",
       "      <td>5000</td>\n",
       "      <td>10</td>\n",
       "      <td>25000.0</td>\n",
       "      <td>2017-07-08</td>\n",
       "      <td>0.0</td>\n",
       "      <td>711946</td>\n",
       "      <td>189876</td>\n",
       "      <td>0</td>\n",
       "    </tr>\n",
       "    <tr>\n",
       "      <th>13287</th>\n",
       "      <td>59000.00</td>\n",
       "      <td>7</td>\n",
       "      <td>0.00</td>\n",
       "      <td>688873.48</td>\n",
       "      <td>0</td>\n",
       "      <td>0.00</td>\n",
       "      <td>45</td>\n",
       "      <td>1</td>\n",
       "      <td>59</td>\n",
       "      <td>9000.0</td>\n",
       "      <td>2000</td>\n",
       "      <td>10</td>\n",
       "      <td>60000.0</td>\n",
       "      <td>2017-07-13</td>\n",
       "      <td>2436.0</td>\n",
       "      <td>717220</td>\n",
       "      <td>315040</td>\n",
       "      <td>1</td>\n",
       "    </tr>\n",
       "    <tr>\n",
       "      <th>13335</th>\n",
       "      <td>29104.00</td>\n",
       "      <td>4</td>\n",
       "      <td>3000.00</td>\n",
       "      <td>27000.00</td>\n",
       "      <td>3</td>\n",
       "      <td>3000.00</td>\n",
       "      <td>31</td>\n",
       "      <td>1</td>\n",
       "      <td>3</td>\n",
       "      <td>7000.0</td>\n",
       "      <td>7000</td>\n",
       "      <td>20</td>\n",
       "      <td>50000.0</td>\n",
       "      <td>2017-07-13</td>\n",
       "      <td>0.0</td>\n",
       "      <td>717208</td>\n",
       "      <td>315031</td>\n",
       "      <td>0</td>\n",
       "    </tr>\n",
       "    <tr>\n",
       "      <th>14244</th>\n",
       "      <td>103000.00</td>\n",
       "      <td>8</td>\n",
       "      <td>0.00</td>\n",
       "      <td>19000.00</td>\n",
       "      <td>0</td>\n",
       "      <td>0.00</td>\n",
       "      <td>30</td>\n",
       "      <td>0</td>\n",
       "      <td>0</td>\n",
       "      <td>7000.0</td>\n",
       "      <td>7000</td>\n",
       "      <td>10</td>\n",
       "      <td>60000.0</td>\n",
       "      <td>2017-07-14</td>\n",
       "      <td>0.0</td>\n",
       "      <td>718890</td>\n",
       "      <td>315911</td>\n",
       "      <td>0</td>\n",
       "    </tr>\n",
       "    <tr>\n",
       "      <th>15626</th>\n",
       "      <td>6500.00</td>\n",
       "      <td>5</td>\n",
       "      <td>0.00</td>\n",
       "      <td>1500.00</td>\n",
       "      <td>0</td>\n",
       "      <td>0.00</td>\n",
       "      <td>25</td>\n",
       "      <td>0</td>\n",
       "      <td>36</td>\n",
       "      <td>5000.0</td>\n",
       "      <td>5000</td>\n",
       "      <td>90</td>\n",
       "      <td>0.0</td>\n",
       "      <td>2017-07-16</td>\n",
       "      <td>0.0</td>\n",
       "      <td>719967</td>\n",
       "      <td>316421</td>\n",
       "      <td>0</td>\n",
       "    </tr>\n",
       "    <tr>\n",
       "      <th>18690</th>\n",
       "      <td>22500.00</td>\n",
       "      <td>7</td>\n",
       "      <td>0.00</td>\n",
       "      <td>3000.00</td>\n",
       "      <td>0</td>\n",
       "      <td>0.00</td>\n",
       "      <td>36</td>\n",
       "      <td>0</td>\n",
       "      <td>80</td>\n",
       "      <td>10000.0</td>\n",
       "      <td>10000</td>\n",
       "      <td>21</td>\n",
       "      <td>0.0</td>\n",
       "      <td>2017-07-21</td>\n",
       "      <td>0.0</td>\n",
       "      <td>725692</td>\n",
       "      <td>319143</td>\n",
       "      <td>0</td>\n",
       "    </tr>\n",
       "    <tr>\n",
       "      <th>18691</th>\n",
       "      <td>22500.00</td>\n",
       "      <td>7</td>\n",
       "      <td>0.00</td>\n",
       "      <td>3000.00</td>\n",
       "      <td>0</td>\n",
       "      <td>0.00</td>\n",
       "      <td>36</td>\n",
       "      <td>0</td>\n",
       "      <td>80</td>\n",
       "      <td>5000.0</td>\n",
       "      <td>5000</td>\n",
       "      <td>21</td>\n",
       "      <td>0.0</td>\n",
       "      <td>2017-07-21</td>\n",
       "      <td>0.0</td>\n",
       "      <td>725759</td>\n",
       "      <td>319143</td>\n",
       "      <td>0</td>\n",
       "    </tr>\n",
       "    <tr>\n",
       "      <th>26188</th>\n",
       "      <td>66059.00</td>\n",
       "      <td>6</td>\n",
       "      <td>22284.80</td>\n",
       "      <td>40791.00</td>\n",
       "      <td>1047</td>\n",
       "      <td>17284.80</td>\n",
       "      <td>23</td>\n",
       "      <td>0</td>\n",
       "      <td>38</td>\n",
       "      <td>7000.0</td>\n",
       "      <td>7000</td>\n",
       "      <td>11</td>\n",
       "      <td>35000.0</td>\n",
       "      <td>2017-07-30</td>\n",
       "      <td>0.0</td>\n",
       "      <td>739151</td>\n",
       "      <td>326551</td>\n",
       "      <td>0</td>\n",
       "    </tr>\n",
       "    <tr>\n",
       "      <th>29086</th>\n",
       "      <td>100672.00</td>\n",
       "      <td>3</td>\n",
       "      <td>0.00</td>\n",
       "      <td>369510.00</td>\n",
       "      <td>0</td>\n",
       "      <td>7297.79</td>\n",
       "      <td>32</td>\n",
       "      <td>0</td>\n",
       "      <td>90</td>\n",
       "      <td>10000.0</td>\n",
       "      <td>10000</td>\n",
       "      <td>20</td>\n",
       "      <td>60000.0</td>\n",
       "      <td>2017-08-01</td>\n",
       "      <td>0.0</td>\n",
       "      <td>742694</td>\n",
       "      <td>328568</td>\n",
       "      <td>0</td>\n",
       "    </tr>\n",
       "    <tr>\n",
       "      <th>29680</th>\n",
       "      <td>253967.00</td>\n",
       "      <td>43</td>\n",
       "      <td>0.00</td>\n",
       "      <td>69535.00</td>\n",
       "      <td>0</td>\n",
       "      <td>952.57</td>\n",
       "      <td>33</td>\n",
       "      <td>1</td>\n",
       "      <td>40</td>\n",
       "      <td>3000.0</td>\n",
       "      <td>3000</td>\n",
       "      <td>20</td>\n",
       "      <td>18000.0</td>\n",
       "      <td>2017-08-02</td>\n",
       "      <td>4308.0</td>\n",
       "      <td>744226</td>\n",
       "      <td>5768</td>\n",
       "      <td>1</td>\n",
       "    </tr>\n",
       "    <tr>\n",
       "      <th>29754</th>\n",
       "      <td>14500.00</td>\n",
       "      <td>3</td>\n",
       "      <td>0.00</td>\n",
       "      <td>4527.00</td>\n",
       "      <td>0</td>\n",
       "      <td>0.00</td>\n",
       "      <td>23</td>\n",
       "      <td>1</td>\n",
       "      <td>65</td>\n",
       "      <td>3000.0</td>\n",
       "      <td>3000</td>\n",
       "      <td>21</td>\n",
       "      <td>0.0</td>\n",
       "      <td>2017-08-02</td>\n",
       "      <td>0.0</td>\n",
       "      <td>744380</td>\n",
       "      <td>329500</td>\n",
       "      <td>0</td>\n",
       "    </tr>\n",
       "    <tr>\n",
       "      <th>29755</th>\n",
       "      <td>90572.00</td>\n",
       "      <td>35</td>\n",
       "      <td>10000.00</td>\n",
       "      <td>44932.00</td>\n",
       "      <td>1</td>\n",
       "      <td>10000.00</td>\n",
       "      <td>34</td>\n",
       "      <td>0</td>\n",
       "      <td>80</td>\n",
       "      <td>7000.0</td>\n",
       "      <td>7000</td>\n",
       "      <td>10</td>\n",
       "      <td>20000.0</td>\n",
       "      <td>2017-08-02</td>\n",
       "      <td>0.0</td>\n",
       "      <td>744382</td>\n",
       "      <td>329502</td>\n",
       "      <td>0</td>\n",
       "    </tr>\n",
       "    <tr>\n",
       "      <th>29951</th>\n",
       "      <td>3000.00</td>\n",
       "      <td>3</td>\n",
       "      <td>0.00</td>\n",
       "      <td>6000.00</td>\n",
       "      <td>0</td>\n",
       "      <td>0.00</td>\n",
       "      <td>21</td>\n",
       "      <td>0</td>\n",
       "      <td>14</td>\n",
       "      <td>2000.0</td>\n",
       "      <td>2000</td>\n",
       "      <td>9</td>\n",
       "      <td>60000.0</td>\n",
       "      <td>2017-08-02</td>\n",
       "      <td>0.0</td>\n",
       "      <td>743215</td>\n",
       "      <td>328876</td>\n",
       "      <td>0</td>\n",
       "    </tr>\n",
       "    <tr>\n",
       "      <th>30333</th>\n",
       "      <td>712836.00</td>\n",
       "      <td>26</td>\n",
       "      <td>4500.92</td>\n",
       "      <td>1450763.00</td>\n",
       "      <td>142</td>\n",
       "      <td>5557.57</td>\n",
       "      <td>41</td>\n",
       "      <td>1</td>\n",
       "      <td>52</td>\n",
       "      <td>8000.0</td>\n",
       "      <td>8000</td>\n",
       "      <td>21</td>\n",
       "      <td>0.0</td>\n",
       "      <td>2017-08-02</td>\n",
       "      <td>0.0</td>\n",
       "      <td>744191</td>\n",
       "      <td>329395</td>\n",
       "      <td>0</td>\n",
       "    </tr>\n",
       "    <tr>\n",
       "      <th>30603</th>\n",
       "      <td>255220.00</td>\n",
       "      <td>25</td>\n",
       "      <td>25720.00</td>\n",
       "      <td>256409.00</td>\n",
       "      <td>58</td>\n",
       "      <td>16000.00</td>\n",
       "      <td>36</td>\n",
       "      <td>1</td>\n",
       "      <td>23</td>\n",
       "      <td>10000.0</td>\n",
       "      <td>10000</td>\n",
       "      <td>20</td>\n",
       "      <td>60000.0</td>\n",
       "      <td>2017-08-03</td>\n",
       "      <td>0.0</td>\n",
       "      <td>745835</td>\n",
       "      <td>330333</td>\n",
       "      <td>0</td>\n",
       "    </tr>\n",
       "    <tr>\n",
       "      <th>30875</th>\n",
       "      <td>28000.00</td>\n",
       "      <td>8</td>\n",
       "      <td>0.00</td>\n",
       "      <td>49100.00</td>\n",
       "      <td>0</td>\n",
       "      <td>0.00</td>\n",
       "      <td>26</td>\n",
       "      <td>1</td>\n",
       "      <td>75</td>\n",
       "      <td>10000.0</td>\n",
       "      <td>10000</td>\n",
       "      <td>20</td>\n",
       "      <td>0.0</td>\n",
       "      <td>2017-08-03</td>\n",
       "      <td>0.0</td>\n",
       "      <td>744759</td>\n",
       "      <td>329721</td>\n",
       "      <td>0</td>\n",
       "    </tr>\n",
       "    <tr>\n",
       "      <th>31159</th>\n",
       "      <td>303596.00</td>\n",
       "      <td>3</td>\n",
       "      <td>27684.75</td>\n",
       "      <td>266644.00</td>\n",
       "      <td>303</td>\n",
       "      <td>29674.52</td>\n",
       "      <td>48</td>\n",
       "      <td>1</td>\n",
       "      <td>22</td>\n",
       "      <td>7000.0</td>\n",
       "      <td>7000</td>\n",
       "      <td>10</td>\n",
       "      <td>50000.0</td>\n",
       "      <td>2017-08-03</td>\n",
       "      <td>0.0</td>\n",
       "      <td>745117</td>\n",
       "      <td>329947</td>\n",
       "      <td>0</td>\n",
       "    </tr>\n",
       "    <tr>\n",
       "      <th>31173</th>\n",
       "      <td>142190.15</td>\n",
       "      <td>6</td>\n",
       "      <td>0.00</td>\n",
       "      <td>81441.99</td>\n",
       "      <td>0</td>\n",
       "      <td>0.00</td>\n",
       "      <td>27</td>\n",
       "      <td>1</td>\n",
       "      <td>34</td>\n",
       "      <td>4000.0</td>\n",
       "      <td>4000</td>\n",
       "      <td>10</td>\n",
       "      <td>35000.0</td>\n",
       "      <td>2017-08-03</td>\n",
       "      <td>0.0</td>\n",
       "      <td>745118</td>\n",
       "      <td>329948</td>\n",
       "      <td>0</td>\n",
       "    </tr>\n",
       "    <tr>\n",
       "      <th>31291</th>\n",
       "      <td>5265.21</td>\n",
       "      <td>1</td>\n",
       "      <td>12686.00</td>\n",
       "      <td>13686.00</td>\n",
       "      <td>2507</td>\n",
       "      <td>12686.00</td>\n",
       "      <td>37</td>\n",
       "      <td>0</td>\n",
       "      <td>37</td>\n",
       "      <td>10000.0</td>\n",
       "      <td>10000</td>\n",
       "      <td>15</td>\n",
       "      <td>24000.0</td>\n",
       "      <td>2017-08-03</td>\n",
       "      <td>0.0</td>\n",
       "      <td>744976</td>\n",
       "      <td>170325</td>\n",
       "      <td>0</td>\n",
       "    </tr>\n",
       "    <tr>\n",
       "      <th>31779</th>\n",
       "      <td>888000.00</td>\n",
       "      <td>18</td>\n",
       "      <td>1134.32</td>\n",
       "      <td>494472.00</td>\n",
       "      <td>19</td>\n",
       "      <td>11200.00</td>\n",
       "      <td>52</td>\n",
       "      <td>0</td>\n",
       "      <td>0</td>\n",
       "      <td>7000.0</td>\n",
       "      <td>7000</td>\n",
       "      <td>10</td>\n",
       "      <td>60000.0</td>\n",
       "      <td>2017-08-04</td>\n",
       "      <td>0.0</td>\n",
       "      <td>747211</td>\n",
       "      <td>331071</td>\n",
       "      <td>0</td>\n",
       "    </tr>\n",
       "    <tr>\n",
       "      <th>31874</th>\n",
       "      <td>102000.00</td>\n",
       "      <td>10</td>\n",
       "      <td>20000.00</td>\n",
       "      <td>85900.00</td>\n",
       "      <td>11</td>\n",
       "      <td>20000.00</td>\n",
       "      <td>30</td>\n",
       "      <td>0</td>\n",
       "      <td>48</td>\n",
       "      <td>7000.0</td>\n",
       "      <td>7000</td>\n",
       "      <td>10</td>\n",
       "      <td>35000.0</td>\n",
       "      <td>2017-08-04</td>\n",
       "      <td>0.0</td>\n",
       "      <td>747027</td>\n",
       "      <td>330978</td>\n",
       "      <td>0</td>\n",
       "    </tr>\n",
       "    <tr>\n",
       "      <th>32188</th>\n",
       "      <td>1000.00</td>\n",
       "      <td>1</td>\n",
       "      <td>107601.31</td>\n",
       "      <td>115000.00</td>\n",
       "      <td>296</td>\n",
       "      <td>107045.31</td>\n",
       "      <td>26</td>\n",
       "      <td>1</td>\n",
       "      <td>66</td>\n",
       "      <td>5000.0</td>\n",
       "      <td>5000</td>\n",
       "      <td>21</td>\n",
       "      <td>0.0</td>\n",
       "      <td>2017-08-04</td>\n",
       "      <td>0.0</td>\n",
       "      <td>746574</td>\n",
       "      <td>330760</td>\n",
       "      <td>0</td>\n",
       "    </tr>\n",
       "    <tr>\n",
       "      <th>32385</th>\n",
       "      <td>869003.52</td>\n",
       "      <td>49</td>\n",
       "      <td>0.00</td>\n",
       "      <td>346500.00</td>\n",
       "      <td>0</td>\n",
       "      <td>3544.93</td>\n",
       "      <td>60</td>\n",
       "      <td>1</td>\n",
       "      <td>28</td>\n",
       "      <td>10000.0</td>\n",
       "      <td>5000</td>\n",
       "      <td>20</td>\n",
       "      <td>10000.0</td>\n",
       "      <td>2017-08-04</td>\n",
       "      <td>7180.0</td>\n",
       "      <td>747156</td>\n",
       "      <td>308526</td>\n",
       "      <td>1</td>\n",
       "    </tr>\n",
       "    <tr>\n",
       "      <th>32619</th>\n",
       "      <td>141418.25</td>\n",
       "      <td>27</td>\n",
       "      <td>35700.00</td>\n",
       "      <td>214370.00</td>\n",
       "      <td>976</td>\n",
       "      <td>15000.00</td>\n",
       "      <td>25</td>\n",
       "      <td>1</td>\n",
       "      <td>36</td>\n",
       "      <td>2000.0</td>\n",
       "      <td>2000</td>\n",
       "      <td>21</td>\n",
       "      <td>0.0</td>\n",
       "      <td>2017-08-05</td>\n",
       "      <td>0.0</td>\n",
       "      <td>748338</td>\n",
       "      <td>331705</td>\n",
       "      <td>0</td>\n",
       "    </tr>\n",
       "    <tr>\n",
       "      <th>32634</th>\n",
       "      <td>3898094.00</td>\n",
       "      <td>45</td>\n",
       "      <td>123116.92</td>\n",
       "      <td>1849086.14</td>\n",
       "      <td>488</td>\n",
       "      <td>49539.78</td>\n",
       "      <td>54</td>\n",
       "      <td>1</td>\n",
       "      <td>71</td>\n",
       "      <td>7000.0</td>\n",
       "      <td>7000</td>\n",
       "      <td>10</td>\n",
       "      <td>50000.0</td>\n",
       "      <td>2017-08-05</td>\n",
       "      <td>0.0</td>\n",
       "      <td>748145</td>\n",
       "      <td>331584</td>\n",
       "      <td>0</td>\n",
       "    </tr>\n",
       "    <tr>\n",
       "      <th>32734</th>\n",
       "      <td>82967.91</td>\n",
       "      <td>12</td>\n",
       "      <td>22000.00</td>\n",
       "      <td>123716.00</td>\n",
       "      <td>49</td>\n",
       "      <td>12000.00</td>\n",
       "      <td>24</td>\n",
       "      <td>1</td>\n",
       "      <td>23</td>\n",
       "      <td>7000.0</td>\n",
       "      <td>7000</td>\n",
       "      <td>20</td>\n",
       "      <td>35000.0</td>\n",
       "      <td>2017-08-05</td>\n",
       "      <td>0.0</td>\n",
       "      <td>748832</td>\n",
       "      <td>332010</td>\n",
       "      <td>0</td>\n",
       "    </tr>\n",
       "    <tr>\n",
       "      <th>32780</th>\n",
       "      <td>1208528.00</td>\n",
       "      <td>12</td>\n",
       "      <td>24824.45</td>\n",
       "      <td>1075792.10</td>\n",
       "      <td>39</td>\n",
       "      <td>11670.10</td>\n",
       "      <td>40</td>\n",
       "      <td>0</td>\n",
       "      <td>45</td>\n",
       "      <td>10000.0</td>\n",
       "      <td>10000</td>\n",
       "      <td>20</td>\n",
       "      <td>50000.0</td>\n",
       "      <td>2017-08-05</td>\n",
       "      <td>0.0</td>\n",
       "      <td>748692</td>\n",
       "      <td>331923</td>\n",
       "      <td>0</td>\n",
       "    </tr>\n",
       "    <tr>\n",
       "      <th>32851</th>\n",
       "      <td>18000.00</td>\n",
       "      <td>5</td>\n",
       "      <td>0.00</td>\n",
       "      <td>13500.00</td>\n",
       "      <td>0</td>\n",
       "      <td>0.00</td>\n",
       "      <td>31</td>\n",
       "      <td>1</td>\n",
       "      <td>0</td>\n",
       "      <td>9000.0</td>\n",
       "      <td>3000</td>\n",
       "      <td>19</td>\n",
       "      <td>35000.0</td>\n",
       "      <td>2017-08-05</td>\n",
       "      <td>4242.6</td>\n",
       "      <td>748424</td>\n",
       "      <td>331754</td>\n",
       "      <td>1</td>\n",
       "    </tr>\n",
       "    <tr>\n",
       "      <th>33010</th>\n",
       "      <td>26000.00</td>\n",
       "      <td>5</td>\n",
       "      <td>0.00</td>\n",
       "      <td>121343.55</td>\n",
       "      <td>0</td>\n",
       "      <td>0.00</td>\n",
       "      <td>25</td>\n",
       "      <td>1</td>\n",
       "      <td>95</td>\n",
       "      <td>5000.0</td>\n",
       "      <td>5000</td>\n",
       "      <td>19</td>\n",
       "      <td>35000.0</td>\n",
       "      <td>2017-08-05</td>\n",
       "      <td>7071.0</td>\n",
       "      <td>747830</td>\n",
       "      <td>331399</td>\n",
       "      <td>1</td>\n",
       "    </tr>\n",
       "    <tr>\n",
       "      <th>33279</th>\n",
       "      <td>75280.00</td>\n",
       "      <td>11</td>\n",
       "      <td>13895.00</td>\n",
       "      <td>285377.00</td>\n",
       "      <td>57</td>\n",
       "      <td>5600.00</td>\n",
       "      <td>30</td>\n",
       "      <td>1</td>\n",
       "      <td>23</td>\n",
       "      <td>2000.0</td>\n",
       "      <td>2000</td>\n",
       "      <td>19</td>\n",
       "      <td>60000.0</td>\n",
       "      <td>2017-08-05</td>\n",
       "      <td>0.0</td>\n",
       "      <td>748198</td>\n",
       "      <td>331617</td>\n",
       "      <td>0</td>\n",
       "    </tr>\n",
       "    <tr>\n",
       "      <th>33542</th>\n",
       "      <td>49694.00</td>\n",
       "      <td>2</td>\n",
       "      <td>219139.99</td>\n",
       "      <td>181953.00</td>\n",
       "      <td>1550</td>\n",
       "      <td>210682.88</td>\n",
       "      <td>36</td>\n",
       "      <td>1</td>\n",
       "      <td>60</td>\n",
       "      <td>5000.0</td>\n",
       "      <td>5000</td>\n",
       "      <td>20</td>\n",
       "      <td>35000.0</td>\n",
       "      <td>2017-08-05</td>\n",
       "      <td>0.0</td>\n",
       "      <td>747596</td>\n",
       "      <td>331280</td>\n",
       "      <td>0</td>\n",
       "    </tr>\n",
       "    <tr>\n",
       "      <th>34498</th>\n",
       "      <td>0.00</td>\n",
       "      <td>0</td>\n",
       "      <td>12999.00</td>\n",
       "      <td>62999.10</td>\n",
       "      <td>2080</td>\n",
       "      <td>105114.00</td>\n",
       "      <td>41</td>\n",
       "      <td>0</td>\n",
       "      <td>74</td>\n",
       "      <td>10000.0</td>\n",
       "      <td>10000</td>\n",
       "      <td>28</td>\n",
       "      <td>0.0</td>\n",
       "      <td>2017-08-06</td>\n",
       "      <td>0.0</td>\n",
       "      <td>749765</td>\n",
       "      <td>332534</td>\n",
       "      <td>0</td>\n",
       "    </tr>\n",
       "    <tr>\n",
       "      <th>34543</th>\n",
       "      <td>568210.25</td>\n",
       "      <td>59</td>\n",
       "      <td>0.00</td>\n",
       "      <td>113736.15</td>\n",
       "      <td>0</td>\n",
       "      <td>0.00</td>\n",
       "      <td>33</td>\n",
       "      <td>0</td>\n",
       "      <td>61</td>\n",
       "      <td>9000.0</td>\n",
       "      <td>5500</td>\n",
       "      <td>16</td>\n",
       "      <td>60000.0</td>\n",
       "      <td>2017-08-06</td>\n",
       "      <td>7418.4</td>\n",
       "      <td>749630</td>\n",
       "      <td>332455</td>\n",
       "      <td>1</td>\n",
       "    </tr>\n",
       "    <tr>\n",
       "      <th>34945</th>\n",
       "      <td>94326.40</td>\n",
       "      <td>27</td>\n",
       "      <td>51008.33</td>\n",
       "      <td>55497.46</td>\n",
       "      <td>2387</td>\n",
       "      <td>14000.00</td>\n",
       "      <td>28</td>\n",
       "      <td>0</td>\n",
       "      <td>22</td>\n",
       "      <td>6000.0</td>\n",
       "      <td>6000</td>\n",
       "      <td>10</td>\n",
       "      <td>35000.0</td>\n",
       "      <td>2017-08-07</td>\n",
       "      <td>0.0</td>\n",
       "      <td>751601</td>\n",
       "      <td>301355</td>\n",
       "      <td>0</td>\n",
       "    </tr>\n",
       "    <tr>\n",
       "      <th>35475</th>\n",
       "      <td>3000.00</td>\n",
       "      <td>2</td>\n",
       "      <td>0.00</td>\n",
       "      <td>2000.00</td>\n",
       "      <td>0</td>\n",
       "      <td>0.00</td>\n",
       "      <td>21</td>\n",
       "      <td>0</td>\n",
       "      <td>25</td>\n",
       "      <td>7000.0</td>\n",
       "      <td>7000</td>\n",
       "      <td>10</td>\n",
       "      <td>35000.0</td>\n",
       "      <td>2017-08-07</td>\n",
       "      <td>0.0</td>\n",
       "      <td>750991</td>\n",
       "      <td>333255</td>\n",
       "      <td>0</td>\n",
       "    </tr>\n",
       "    <tr>\n",
       "      <th>35776</th>\n",
       "      <td>146855.00</td>\n",
       "      <td>13</td>\n",
       "      <td>25000.00</td>\n",
       "      <td>156900.00</td>\n",
       "      <td>12</td>\n",
       "      <td>25000.00</td>\n",
       "      <td>36</td>\n",
       "      <td>1</td>\n",
       "      <td>68</td>\n",
       "      <td>7000.0</td>\n",
       "      <td>7000</td>\n",
       "      <td>10</td>\n",
       "      <td>50000.0</td>\n",
       "      <td>2017-08-08</td>\n",
       "      <td>0.0</td>\n",
       "      <td>752757</td>\n",
       "      <td>334341</td>\n",
       "      <td>0</td>\n",
       "    </tr>\n",
       "    <tr>\n",
       "      <th>35866</th>\n",
       "      <td>11612.00</td>\n",
       "      <td>2</td>\n",
       "      <td>33994.32</td>\n",
       "      <td>36563.00</td>\n",
       "      <td>3848</td>\n",
       "      <td>23863.32</td>\n",
       "      <td>27</td>\n",
       "      <td>0</td>\n",
       "      <td>61</td>\n",
       "      <td>7000.0</td>\n",
       "      <td>7000</td>\n",
       "      <td>10</td>\n",
       "      <td>35000.0</td>\n",
       "      <td>2017-08-08</td>\n",
       "      <td>0.0</td>\n",
       "      <td>752619</td>\n",
       "      <td>334268</td>\n",
       "      <td>0</td>\n",
       "    </tr>\n",
       "    <tr>\n",
       "      <th>35918</th>\n",
       "      <td>1025581.01</td>\n",
       "      <td>68</td>\n",
       "      <td>160072.60</td>\n",
       "      <td>403009.10</td>\n",
       "      <td>237</td>\n",
       "      <td>70000.00</td>\n",
       "      <td>31</td>\n",
       "      <td>1</td>\n",
       "      <td>66</td>\n",
       "      <td>2000.0</td>\n",
       "      <td>2000</td>\n",
       "      <td>20</td>\n",
       "      <td>10000.0</td>\n",
       "      <td>2017-08-08</td>\n",
       "      <td>0.0</td>\n",
       "      <td>753108</td>\n",
       "      <td>292397</td>\n",
       "      <td>0</td>\n",
       "    </tr>\n",
       "    <tr>\n",
       "      <th>35998</th>\n",
       "      <td>377589.00</td>\n",
       "      <td>56</td>\n",
       "      <td>52282.63</td>\n",
       "      <td>260118.62</td>\n",
       "      <td>1348</td>\n",
       "      <td>51136.52</td>\n",
       "      <td>37</td>\n",
       "      <td>0</td>\n",
       "      <td>15</td>\n",
       "      <td>5000.0</td>\n",
       "      <td>3000</td>\n",
       "      <td>20</td>\n",
       "      <td>20000.0</td>\n",
       "      <td>2017-08-08</td>\n",
       "      <td>3130.8</td>\n",
       "      <td>752370</td>\n",
       "      <td>334115</td>\n",
       "      <td>1</td>\n",
       "    </tr>\n",
       "    <tr>\n",
       "      <th>36004</th>\n",
       "      <td>41533.00</td>\n",
       "      <td>1</td>\n",
       "      <td>0.00</td>\n",
       "      <td>81900.00</td>\n",
       "      <td>0</td>\n",
       "      <td>1319.85</td>\n",
       "      <td>21</td>\n",
       "      <td>0</td>\n",
       "      <td>60</td>\n",
       "      <td>10000.0</td>\n",
       "      <td>10000</td>\n",
       "      <td>20</td>\n",
       "      <td>35000.0</td>\n",
       "      <td>2017-08-08</td>\n",
       "      <td>0.0</td>\n",
       "      <td>753197</td>\n",
       "      <td>334592</td>\n",
       "      <td>0</td>\n",
       "    </tr>\n",
       "    <tr>\n",
       "      <th>36469</th>\n",
       "      <td>299785.52</td>\n",
       "      <td>4</td>\n",
       "      <td>844378.28</td>\n",
       "      <td>812216.50</td>\n",
       "      <td>4868</td>\n",
       "      <td>300000.00</td>\n",
       "      <td>38</td>\n",
       "      <td>1</td>\n",
       "      <td>5</td>\n",
       "      <td>10000.0</td>\n",
       "      <td>10000</td>\n",
       "      <td>14</td>\n",
       "      <td>0.0</td>\n",
       "      <td>2017-08-08</td>\n",
       "      <td>0.0</td>\n",
       "      <td>752401</td>\n",
       "      <td>334135</td>\n",
       "      <td>0</td>\n",
       "    </tr>\n",
       "    <tr>\n",
       "      <th>36812</th>\n",
       "      <td>478506.00</td>\n",
       "      <td>7</td>\n",
       "      <td>0.00</td>\n",
       "      <td>513221.00</td>\n",
       "      <td>0</td>\n",
       "      <td>0.00</td>\n",
       "      <td>25</td>\n",
       "      <td>1</td>\n",
       "      <td>40</td>\n",
       "      <td>10000.0</td>\n",
       "      <td>10000</td>\n",
       "      <td>14</td>\n",
       "      <td>0.0</td>\n",
       "      <td>2017-08-08</td>\n",
       "      <td>0.0</td>\n",
       "      <td>752911</td>\n",
       "      <td>334423</td>\n",
       "      <td>0</td>\n",
       "    </tr>\n",
       "    <tr>\n",
       "      <th>36939</th>\n",
       "      <td>1270394.00</td>\n",
       "      <td>15</td>\n",
       "      <td>23775.07</td>\n",
       "      <td>624718.00</td>\n",
       "      <td>149</td>\n",
       "      <td>13000.00</td>\n",
       "      <td>48</td>\n",
       "      <td>1</td>\n",
       "      <td>0</td>\n",
       "      <td>5000.0</td>\n",
       "      <td>5000</td>\n",
       "      <td>10</td>\n",
       "      <td>35000.0</td>\n",
       "      <td>2017-08-09</td>\n",
       "      <td>0.0</td>\n",
       "      <td>754277</td>\n",
       "      <td>304590</td>\n",
       "      <td>0</td>\n",
       "    </tr>\n",
       "    <tr>\n",
       "      <th>38187</th>\n",
       "      <td>17117.00</td>\n",
       "      <td>3</td>\n",
       "      <td>6393.00</td>\n",
       "      <td>6399.10</td>\n",
       "      <td>2331</td>\n",
       "      <td>4999.00</td>\n",
       "      <td>36</td>\n",
       "      <td>1</td>\n",
       "      <td>0</td>\n",
       "      <td>10000.0</td>\n",
       "      <td>10000</td>\n",
       "      <td>14</td>\n",
       "      <td>0.0</td>\n",
       "      <td>2017-08-10</td>\n",
       "      <td>0.0</td>\n",
       "      <td>755725</td>\n",
       "      <td>336130</td>\n",
       "      <td>0</td>\n",
       "    </tr>\n",
       "    <tr>\n",
       "      <th>38298</th>\n",
       "      <td>24773.78</td>\n",
       "      <td>3</td>\n",
       "      <td>47626.55</td>\n",
       "      <td>70543.00</td>\n",
       "      <td>1519</td>\n",
       "      <td>40486.17</td>\n",
       "      <td>35</td>\n",
       "      <td>1</td>\n",
       "      <td>0</td>\n",
       "      <td>3000.0</td>\n",
       "      <td>3000</td>\n",
       "      <td>10</td>\n",
       "      <td>20000.0</td>\n",
       "      <td>2017-08-10</td>\n",
       "      <td>0.0</td>\n",
       "      <td>754843</td>\n",
       "      <td>335611</td>\n",
       "      <td>0</td>\n",
       "    </tr>\n",
       "    <tr>\n",
       "      <th>38659</th>\n",
       "      <td>730881.00</td>\n",
       "      <td>8</td>\n",
       "      <td>265038.16</td>\n",
       "      <td>680862.00</td>\n",
       "      <td>2794</td>\n",
       "      <td>156079.68</td>\n",
       "      <td>68</td>\n",
       "      <td>1</td>\n",
       "      <td>18</td>\n",
       "      <td>10000.0</td>\n",
       "      <td>10000</td>\n",
       "      <td>20</td>\n",
       "      <td>35000.0</td>\n",
       "      <td>2017-08-10</td>\n",
       "      <td>0.0</td>\n",
       "      <td>755455</td>\n",
       "      <td>335976</td>\n",
       "      <td>0</td>\n",
       "    </tr>\n",
       "    <tr>\n",
       "      <th>38783</th>\n",
       "      <td>56782.98</td>\n",
       "      <td>8</td>\n",
       "      <td>0.00</td>\n",
       "      <td>39740.67</td>\n",
       "      <td>0</td>\n",
       "      <td>1795.99</td>\n",
       "      <td>44</td>\n",
       "      <td>1</td>\n",
       "      <td>32</td>\n",
       "      <td>7000.0</td>\n",
       "      <td>7000</td>\n",
       "      <td>20</td>\n",
       "      <td>20000.0</td>\n",
       "      <td>2017-08-10</td>\n",
       "      <td>0.0</td>\n",
       "      <td>755645</td>\n",
       "      <td>336086</td>\n",
       "      <td>0</td>\n",
       "    </tr>\n",
       "  </tbody>\n",
       "</table>\n",
       "</div>"
      ],
      "text/plain": [
       "       closed_cred_sum  closed_creds  active_cred_sum_overdue  \\\n",
       "2641        1166889.00            35                 30932.64   \n",
       "2806         284608.15            24                     0.00   \n",
       "9576         226574.40            13                     0.00   \n",
       "9736          74338.00             5                 12837.37   \n",
       "13287         59000.00             7                     0.00   \n",
       "13335         29104.00             4                  3000.00   \n",
       "14244        103000.00             8                     0.00   \n",
       "15626          6500.00             5                     0.00   \n",
       "18690         22500.00             7                     0.00   \n",
       "18691         22500.00             7                     0.00   \n",
       "26188         66059.00             6                 22284.80   \n",
       "29086        100672.00             3                     0.00   \n",
       "29680        253967.00            43                     0.00   \n",
       "29754         14500.00             3                     0.00   \n",
       "29755         90572.00            35                 10000.00   \n",
       "29951          3000.00             3                     0.00   \n",
       "30333        712836.00            26                  4500.92   \n",
       "30603        255220.00            25                 25720.00   \n",
       "30875         28000.00             8                     0.00   \n",
       "31159        303596.00             3                 27684.75   \n",
       "31173        142190.15             6                     0.00   \n",
       "31291          5265.21             1                 12686.00   \n",
       "31779        888000.00            18                  1134.32   \n",
       "31874        102000.00            10                 20000.00   \n",
       "32188          1000.00             1                107601.31   \n",
       "32385        869003.52            49                     0.00   \n",
       "32619        141418.25            27                 35700.00   \n",
       "32634       3898094.00            45                123116.92   \n",
       "32734         82967.91            12                 22000.00   \n",
       "32780       1208528.00            12                 24824.45   \n",
       "32851         18000.00             5                     0.00   \n",
       "33010         26000.00             5                     0.00   \n",
       "33279         75280.00            11                 13895.00   \n",
       "33542         49694.00             2                219139.99   \n",
       "34498             0.00             0                 12999.00   \n",
       "34543        568210.25            59                     0.00   \n",
       "34945         94326.40            27                 51008.33   \n",
       "35475          3000.00             2                     0.00   \n",
       "35776        146855.00            13                 25000.00   \n",
       "35866         11612.00             2                 33994.32   \n",
       "35918       1025581.01            68                160072.60   \n",
       "35998        377589.00            56                 52282.63   \n",
       "36004         41533.00             1                     0.00   \n",
       "36469        299785.52             4                844378.28   \n",
       "36812        478506.00             7                     0.00   \n",
       "36939       1270394.00            15                 23775.07   \n",
       "38187         17117.00             3                  6393.00   \n",
       "38298         24773.78             3                 47626.55   \n",
       "38659        730881.00             8                265038.16   \n",
       "38783         56782.98             8                     0.00   \n",
       "\n",
       "       active_cred_sum  active_cred_day_overdue  active_cred_max_overdue  age  \\\n",
       "2641         208000.00                      377                 30932.64   41   \n",
       "2806          95500.00                        0                     0.00   30   \n",
       "9576          11000.00                        0                     0.00   30   \n",
       "9736          50997.30                      706                  8000.00   39   \n",
       "13287        688873.48                        0                     0.00   45   \n",
       "13335         27000.00                        3                  3000.00   31   \n",
       "14244         19000.00                        0                     0.00   30   \n",
       "15626          1500.00                        0                     0.00   25   \n",
       "18690          3000.00                        0                     0.00   36   \n",
       "18691          3000.00                        0                     0.00   36   \n",
       "26188         40791.00                     1047                 17284.80   23   \n",
       "29086        369510.00                        0                  7297.79   32   \n",
       "29680         69535.00                        0                   952.57   33   \n",
       "29754          4527.00                        0                     0.00   23   \n",
       "29755         44932.00                        1                 10000.00   34   \n",
       "29951          6000.00                        0                     0.00   21   \n",
       "30333       1450763.00                      142                  5557.57   41   \n",
       "30603        256409.00                       58                 16000.00   36   \n",
       "30875         49100.00                        0                     0.00   26   \n",
       "31159        266644.00                      303                 29674.52   48   \n",
       "31173         81441.99                        0                     0.00   27   \n",
       "31291         13686.00                     2507                 12686.00   37   \n",
       "31779        494472.00                       19                 11200.00   52   \n",
       "31874         85900.00                       11                 20000.00   30   \n",
       "32188        115000.00                      296                107045.31   26   \n",
       "32385        346500.00                        0                  3544.93   60   \n",
       "32619        214370.00                      976                 15000.00   25   \n",
       "32634       1849086.14                      488                 49539.78   54   \n",
       "32734        123716.00                       49                 12000.00   24   \n",
       "32780       1075792.10                       39                 11670.10   40   \n",
       "32851         13500.00                        0                     0.00   31   \n",
       "33010        121343.55                        0                     0.00   25   \n",
       "33279        285377.00                       57                  5600.00   30   \n",
       "33542        181953.00                     1550                210682.88   36   \n",
       "34498         62999.10                     2080                105114.00   41   \n",
       "34543        113736.15                        0                     0.00   33   \n",
       "34945         55497.46                     2387                 14000.00   28   \n",
       "35475          2000.00                        0                     0.00   21   \n",
       "35776        156900.00                       12                 25000.00   36   \n",
       "35866         36563.00                     3848                 23863.32   27   \n",
       "35918        403009.10                      237                 70000.00   31   \n",
       "35998        260118.62                     1348                 51136.52   37   \n",
       "36004         81900.00                        0                  1319.85   21   \n",
       "36469        812216.50                     4868                300000.00   38   \n",
       "36812        513221.00                        0                     0.00   25   \n",
       "36939        624718.00                      149                 13000.00   48   \n",
       "38187          6399.10                     2331                  4999.00   36   \n",
       "38298         70543.00                     1519                 40486.17   35   \n",
       "38659        680862.00                     2794                156079.68   68   \n",
       "38783         39740.67                        0                  1795.99   44   \n",
       "\n",
       "       gender  region  first_loan  loan_cost_all  first_days_quant  \\\n",
       "2641        0       0      7000.0           6000                 7   \n",
       "2806        0       0      8000.0           5500                 7   \n",
       "9576        0       3      4000.0           4000                10   \n",
       "9736        1      65      5000.0           5000                10   \n",
       "13287       1      59      9000.0           2000                10   \n",
       "13335       1       3      7000.0           7000                20   \n",
       "14244       0       0      7000.0           7000                10   \n",
       "15626       0      36      5000.0           5000                90   \n",
       "18690       0      80     10000.0          10000                21   \n",
       "18691       0      80      5000.0           5000                21   \n",
       "26188       0      38      7000.0           7000                11   \n",
       "29086       0      90     10000.0          10000                20   \n",
       "29680       1      40      3000.0           3000                20   \n",
       "29754       1      65      3000.0           3000                21   \n",
       "29755       0      80      7000.0           7000                10   \n",
       "29951       0      14      2000.0           2000                 9   \n",
       "30333       1      52      8000.0           8000                21   \n",
       "30603       1      23     10000.0          10000                20   \n",
       "30875       1      75     10000.0          10000                20   \n",
       "31159       1      22      7000.0           7000                10   \n",
       "31173       1      34      4000.0           4000                10   \n",
       "31291       0      37     10000.0          10000                15   \n",
       "31779       0       0      7000.0           7000                10   \n",
       "31874       0      48      7000.0           7000                10   \n",
       "32188       1      66      5000.0           5000                21   \n",
       "32385       1      28     10000.0           5000                20   \n",
       "32619       1      36      2000.0           2000                21   \n",
       "32634       1      71      7000.0           7000                10   \n",
       "32734       1      23      7000.0           7000                20   \n",
       "32780       0      45     10000.0          10000                20   \n",
       "32851       1       0      9000.0           3000                19   \n",
       "33010       1      95      5000.0           5000                19   \n",
       "33279       1      23      2000.0           2000                19   \n",
       "33542       1      60      5000.0           5000                20   \n",
       "34498       0      74     10000.0          10000                28   \n",
       "34543       0      61      9000.0           5500                16   \n",
       "34945       0      22      6000.0           6000                10   \n",
       "35475       0      25      7000.0           7000                10   \n",
       "35776       1      68      7000.0           7000                10   \n",
       "35866       0      61      7000.0           7000                10   \n",
       "35918       1      66      2000.0           2000                20   \n",
       "35998       0      15      5000.0           3000                20   \n",
       "36004       0      60     10000.0          10000                20   \n",
       "36469       1       5     10000.0          10000                14   \n",
       "36812       1      40     10000.0          10000                14   \n",
       "36939       1       0      5000.0           5000                10   \n",
       "38187       1       0     10000.0          10000                14   \n",
       "38298       1       0      3000.0           3000                10   \n",
       "38659       1      18     10000.0          10000                20   \n",
       "38783       1      32      7000.0           7000                20   \n",
       "\n",
       "       month_income order_date  cost_all  order_id  client_id  expert  \n",
       "2641        30000.0 2017-06-29    6915.6    700600     154353       1  \n",
       "2806        50000.0 2017-06-29       0.0    699736     305642       1  \n",
       "9576        45000.0 2017-07-07    4872.0    710321     277780       1  \n",
       "9736        25000.0 2017-07-08       0.0    711946     189876       0  \n",
       "13287       60000.0 2017-07-13    2436.0    717220     315040       1  \n",
       "13335       50000.0 2017-07-13       0.0    717208     315031       0  \n",
       "14244       60000.0 2017-07-14       0.0    718890     315911       0  \n",
       "15626           0.0 2017-07-16       0.0    719967     316421       0  \n",
       "18690           0.0 2017-07-21       0.0    725692     319143       0  \n",
       "18691           0.0 2017-07-21       0.0    725759     319143       0  \n",
       "26188       35000.0 2017-07-30       0.0    739151     326551       0  \n",
       "29086       60000.0 2017-08-01       0.0    742694     328568       0  \n",
       "29680       18000.0 2017-08-02    4308.0    744226       5768       1  \n",
       "29754           0.0 2017-08-02       0.0    744380     329500       0  \n",
       "29755       20000.0 2017-08-02       0.0    744382     329502       0  \n",
       "29951       60000.0 2017-08-02       0.0    743215     328876       0  \n",
       "30333           0.0 2017-08-02       0.0    744191     329395       0  \n",
       "30603       60000.0 2017-08-03       0.0    745835     330333       0  \n",
       "30875           0.0 2017-08-03       0.0    744759     329721       0  \n",
       "31159       50000.0 2017-08-03       0.0    745117     329947       0  \n",
       "31173       35000.0 2017-08-03       0.0    745118     329948       0  \n",
       "31291       24000.0 2017-08-03       0.0    744976     170325       0  \n",
       "31779       60000.0 2017-08-04       0.0    747211     331071       0  \n",
       "31874       35000.0 2017-08-04       0.0    747027     330978       0  \n",
       "32188           0.0 2017-08-04       0.0    746574     330760       0  \n",
       "32385       10000.0 2017-08-04    7180.0    747156     308526       1  \n",
       "32619           0.0 2017-08-05       0.0    748338     331705       0  \n",
       "32634       50000.0 2017-08-05       0.0    748145     331584       0  \n",
       "32734       35000.0 2017-08-05       0.0    748832     332010       0  \n",
       "32780       50000.0 2017-08-05       0.0    748692     331923       0  \n",
       "32851       35000.0 2017-08-05    4242.6    748424     331754       1  \n",
       "33010       35000.0 2017-08-05    7071.0    747830     331399       1  \n",
       "33279       60000.0 2017-08-05       0.0    748198     331617       0  \n",
       "33542       35000.0 2017-08-05       0.0    747596     331280       0  \n",
       "34498           0.0 2017-08-06       0.0    749765     332534       0  \n",
       "34543       60000.0 2017-08-06    7418.4    749630     332455       1  \n",
       "34945       35000.0 2017-08-07       0.0    751601     301355       0  \n",
       "35475       35000.0 2017-08-07       0.0    750991     333255       0  \n",
       "35776       50000.0 2017-08-08       0.0    752757     334341       0  \n",
       "35866       35000.0 2017-08-08       0.0    752619     334268       0  \n",
       "35918       10000.0 2017-08-08       0.0    753108     292397       0  \n",
       "35998       20000.0 2017-08-08    3130.8    752370     334115       1  \n",
       "36004       35000.0 2017-08-08       0.0    753197     334592       0  \n",
       "36469           0.0 2017-08-08       0.0    752401     334135       0  \n",
       "36812           0.0 2017-08-08       0.0    752911     334423       0  \n",
       "36939       35000.0 2017-08-09       0.0    754277     304590       0  \n",
       "38187           0.0 2017-08-10       0.0    755725     336130       0  \n",
       "38298       20000.0 2017-08-10       0.0    754843     335611       0  \n",
       "38659       35000.0 2017-08-10       0.0    755455     335976       0  \n",
       "38783       20000.0 2017-08-10       0.0    755645     336086       0  "
      ]
     },
     "execution_count": 216,
     "metadata": {},
     "output_type": "execute_result"
    }
   ],
   "source": [
    "## Посмотрим на повторяющиеся заявки\n",
    "data_repeat_order = data.iloc[data.isin(order_numbers)[data.isin(order_numbers).order_id].index.values]\n",
    "data_repeat_order.head(50)"
   ]
  },
  {
   "cell_type": "markdown",
   "metadata": {},
   "source": [
    "Наблюдаем, что некоторые заявки встречаются дважды  \n",
    "Такое могло произойти, если сначала создали заявку с ошибкой, а потом ее исправили и создали новую заявку, но предыдущую не удалили  \n",
    "Но в данной ситуации трудно понять какая из заявок правильная, так как ошибки встречаются совершенно разные, поэтому возьмём по одной из повторяющихся заявок."
   ]
  },
  {
   "cell_type": "code",
   "execution_count": 22,
   "metadata": {},
   "outputs": [],
   "source": [
    "## Удалим повторяющиеся заявки\n",
    "data = data.drop_duplicates(subset='order_id', keep='last').reset_index(drop = True)"
   ]
  },
  {
   "cell_type": "code",
   "execution_count": 25,
   "metadata": {},
   "outputs": [
    {
     "name": "stdout",
     "output_type": "stream",
     "text": [
      "<class 'pandas.core.frame.DataFrame'>\n",
      "RangeIndex: 42857 entries, 0 to 42856\n",
      "Data columns (total 18 columns):\n",
      " #   Column                   Non-Null Count  Dtype         \n",
      "---  ------                   --------------  -----         \n",
      " 0   closed_cred_sum          42857 non-null  float64       \n",
      " 1   closed_creds             42857 non-null  int64         \n",
      " 2   active_cred_sum_overdue  42857 non-null  float64       \n",
      " 3   active_cred_sum          42857 non-null  float64       \n",
      " 4   active_cred_day_overdue  42857 non-null  int64         \n",
      " 5   active_cred_max_overdue  42857 non-null  float64       \n",
      " 6   age                      42857 non-null  int64         \n",
      " 7   gender                   42857 non-null  int64         \n",
      " 8   region                   42857 non-null  int64         \n",
      " 9   first_loan               42840 non-null  float64       \n",
      " 10  loan_cost_all            42857 non-null  int64         \n",
      " 11  first_days_quant         42857 non-null  int64         \n",
      " 12  month_income             42857 non-null  float64       \n",
      " 13  order_date               42857 non-null  datetime64[ns]\n",
      " 14  cost_all                 42857 non-null  float64       \n",
      " 15  order_id                 42857 non-null  int64         \n",
      " 16  client_id                42857 non-null  int64         \n",
      " 17  expert                   42857 non-null  int64         \n",
      "dtypes: datetime64[ns](1), float64(7), int64(10)\n",
      "memory usage: 5.9 MB\n"
     ]
    }
   ],
   "source": [
    "## Снова проверим пропущенные значения\n",
    "data.info()"
   ]
  },
  {
   "cell_type": "code",
   "execution_count": 27,
   "metadata": {},
   "outputs": [],
   "source": [
    "## Совсем мало пропущенных значений осталось\n",
    "## Можно не использовать строки с пропущенными значениями\n",
    "data = data.dropna().reset_index(drop = True)"
   ]
  },
  {
   "cell_type": "code",
   "execution_count": 29,
   "metadata": {},
   "outputs": [],
   "source": [
    "## Напишем функцию, чтобы строить графики boxplot\n",
    "def boxplot(df,columns,subplot_height,subplot_width = 3):\n",
    "    i = 1\n",
    "    plt.figure(figsize = (20,10))\n",
    "    for column in columns:\n",
    "        ax = plt.subplot(subplot_height,subplot_width,i)\n",
    "        ax.set_title(column)\n",
    "        ax.boxplot(df[column])\n",
    "        i += 1"
   ]
  },
  {
   "cell_type": "code",
   "execution_count": 30,
   "metadata": {},
   "outputs": [
    {
     "data": {
      "image/png": "[encoded data removed]",
      "text/plain": [
       "<Figure size 1440x720 with 6 Axes>"
      ]
     },
     "metadata": {
      "needs_background": "light"
     },
     "output_type": "display_data"
    }
   ],
   "source": [
    "## Построим графики boxplot Для первых 6 признаков\n",
    "boxplot(data,['closed_cred_sum','closed_creds','active_cred_sum_overdue','active_cred_sum',\n",
    "                        'active_cred_day_overdue','active_cred_max_overdue'],2,3)"
   ]
  },
  {
   "cell_type": "code",
   "execution_count": 31,
   "metadata": {},
   "outputs": [
    {
     "data": {
      "image/png": "[encoded data removed]",
      "text/plain": [
       "<Figure size 1440x720 with 6 Axes>"
      ]
     },
     "metadata": {
      "needs_background": "light"
     },
     "output_type": "display_data"
    }
   ],
   "source": [
    "## Теперь построим для оставшихся\n",
    "boxplot(data,['age','first_loan','first_days_quant','month_income','loan_cost_all','cost_all'],2,3)"
   ]
  },
  {
   "cell_type": "markdown",
   "metadata": {},
   "source": [
    "На всех графиках видим, что распределение далеко от нормального, практически у всех признаков большая дисперсия, а также наблюдаются выбросы"
   ]
  },
  {
   "cell_type": "code",
   "execution_count": 32,
   "metadata": {},
   "outputs": [
    {
     "data": {
      "text/html": [
       "<div>\n",
       "<style scoped>\n",
       "    .dataframe tbody tr th:only-of-type {\n",
       "        vertical-align: middle;\n",
       "    }\n",
       "\n",
       "    .dataframe tbody tr th {\n",
       "        vertical-align: top;\n",
       "    }\n",
       "\n",
       "    .dataframe thead th {\n",
       "        text-align: right;\n",
       "    }\n",
       "</style>\n",
       "<table border=\"1\" class=\"dataframe\">\n",
       "  <thead>\n",
       "    <tr style=\"text-align: right;\">\n",
       "      <th></th>\n",
       "      <th>closed_cred_sum</th>\n",
       "      <th>closed_creds</th>\n",
       "      <th>active_cred_sum_overdue</th>\n",
       "      <th>active_cred_sum</th>\n",
       "      <th>active_cred_day_overdue</th>\n",
       "      <th>active_cred_max_overdue</th>\n",
       "      <th>age</th>\n",
       "      <th>gender</th>\n",
       "      <th>region</th>\n",
       "      <th>first_loan</th>\n",
       "      <th>loan_cost_all</th>\n",
       "      <th>first_days_quant</th>\n",
       "      <th>month_income</th>\n",
       "      <th>cost_all</th>\n",
       "      <th>order_id</th>\n",
       "      <th>client_id</th>\n",
       "      <th>expert</th>\n",
       "    </tr>\n",
       "  </thead>\n",
       "  <tbody>\n",
       "    <tr>\n",
       "      <th>count</th>\n",
       "      <td>4.284000e+04</td>\n",
       "      <td>42840.000000</td>\n",
       "      <td>4.284000e+04</td>\n",
       "      <td>4.284000e+04</td>\n",
       "      <td>42840.00000</td>\n",
       "      <td>4.284000e+04</td>\n",
       "      <td>42840.000000</td>\n",
       "      <td>42840.000000</td>\n",
       "      <td>42840.000000</td>\n",
       "      <td>42840.000000</td>\n",
       "      <td>42840.000000</td>\n",
       "      <td>42840.000000</td>\n",
       "      <td>42840.000000</td>\n",
       "      <td>42840.000000</td>\n",
       "      <td>42840.000000</td>\n",
       "      <td>42840.000000</td>\n",
       "      <td>42840.000000</td>\n",
       "    </tr>\n",
       "    <tr>\n",
       "      <th>mean</th>\n",
       "      <td>1.796340e+05</td>\n",
       "      <td>7.817530</td>\n",
       "      <td>4.973543e+04</td>\n",
       "      <td>1.885019e+05</td>\n",
       "      <td>703.04211</td>\n",
       "      <td>3.643237e+04</td>\n",
       "      <td>35.011788</td>\n",
       "      <td>0.458987</td>\n",
       "      <td>28.433754</td>\n",
       "      <td>7725.842670</td>\n",
       "      <td>6632.355275</td>\n",
       "      <td>24.158147</td>\n",
       "      <td>25515.545763</td>\n",
       "      <td>1308.487423</td>\n",
       "      <td>731687.918651</td>\n",
       "      <td>285295.464706</td>\n",
       "      <td>0.261601</td>\n",
       "    </tr>\n",
       "    <tr>\n",
       "      <th>std</th>\n",
       "      <td>5.099339e+05</td>\n",
       "      <td>13.947338</td>\n",
       "      <td>2.471866e+05</td>\n",
       "      <td>4.247064e+05</td>\n",
       "      <td>1339.38624</td>\n",
       "      <td>1.693824e+05</td>\n",
       "      <td>11.333374</td>\n",
       "      <td>0.498321</td>\n",
       "      <td>29.713931</td>\n",
       "      <td>5463.964229</td>\n",
       "      <td>4698.822292</td>\n",
       "      <td>37.723358</td>\n",
       "      <td>20532.932480</td>\n",
       "      <td>4693.128005</td>\n",
       "      <td>24984.564121</td>\n",
       "      <td>76418.839719</td>\n",
       "      <td>0.439512</td>\n",
       "    </tr>\n",
       "    <tr>\n",
       "      <th>min</th>\n",
       "      <td>0.000000e+00</td>\n",
       "      <td>0.000000</td>\n",
       "      <td>0.000000e+00</td>\n",
       "      <td>0.000000e+00</td>\n",
       "      <td>0.00000</td>\n",
       "      <td>0.000000e+00</td>\n",
       "      <td>18.000000</td>\n",
       "      <td>0.000000</td>\n",
       "      <td>0.000000</td>\n",
       "      <td>2000.000000</td>\n",
       "      <td>100.000000</td>\n",
       "      <td>7.000000</td>\n",
       "      <td>0.000000</td>\n",
       "      <td>0.000000</td>\n",
       "      <td>695828.000000</td>\n",
       "      <td>109.000000</td>\n",
       "      <td>0.000000</td>\n",
       "    </tr>\n",
       "    <tr>\n",
       "      <th>25%</th>\n",
       "      <td>5.000000e+03</td>\n",
       "      <td>1.000000</td>\n",
       "      <td>0.000000e+00</td>\n",
       "      <td>1.350000e+04</td>\n",
       "      <td>0.00000</td>\n",
       "      <td>3.555075e+02</td>\n",
       "      <td>27.000000</td>\n",
       "      <td>0.000000</td>\n",
       "      <td>0.000000</td>\n",
       "      <td>5000.000000</td>\n",
       "      <td>3000.000000</td>\n",
       "      <td>10.000000</td>\n",
       "      <td>0.000000</td>\n",
       "      <td>0.000000</td>\n",
       "      <td>712909.750000</td>\n",
       "      <td>285798.500000</td>\n",
       "      <td>0.000000</td>\n",
       "    </tr>\n",
       "    <tr>\n",
       "      <th>50%</th>\n",
       "      <td>3.966417e+04</td>\n",
       "      <td>3.000000</td>\n",
       "      <td>5.000000e+03</td>\n",
       "      <td>5.421730e+04</td>\n",
       "      <td>61.00000</td>\n",
       "      <td>6.427800e+03</td>\n",
       "      <td>32.000000</td>\n",
       "      <td>0.000000</td>\n",
       "      <td>24.000000</td>\n",
       "      <td>7000.000000</td>\n",
       "      <td>7000.000000</td>\n",
       "      <td>20.000000</td>\n",
       "      <td>26000.000000</td>\n",
       "      <td>0.000000</td>\n",
       "      <td>730594.500000</td>\n",
       "      <td>313287.500000</td>\n",
       "      <td>0.000000</td>\n",
       "    </tr>\n",
       "    <tr>\n",
       "      <th>75%</th>\n",
       "      <td>1.647455e+05</td>\n",
       "      <td>9.000000</td>\n",
       "      <td>3.038790e+04</td>\n",
       "      <td>1.882242e+05</td>\n",
       "      <td>903.00000</td>\n",
       "      <td>2.345083e+04</td>\n",
       "      <td>41.000000</td>\n",
       "      <td>1.000000</td>\n",
       "      <td>52.000000</td>\n",
       "      <td>10000.000000</td>\n",
       "      <td>10000.000000</td>\n",
       "      <td>20.000000</td>\n",
       "      <td>35000.000000</td>\n",
       "      <td>0.000000</td>\n",
       "      <td>746530.250000</td>\n",
       "      <td>326631.250000</td>\n",
       "      <td>1.000000</td>\n",
       "    </tr>\n",
       "    <tr>\n",
       "      <th>max</th>\n",
       "      <td>4.457421e+07</td>\n",
       "      <td>563.000000</td>\n",
       "      <td>3.303100e+07</td>\n",
       "      <td>2.273166e+07</td>\n",
       "      <td>21927.00000</td>\n",
       "      <td>2.170166e+07</td>\n",
       "      <td>99.000000</td>\n",
       "      <td>1.000000</td>\n",
       "      <td>99.000000</td>\n",
       "      <td>100000.000000</td>\n",
       "      <td>100000.000000</td>\n",
       "      <td>336.000000</td>\n",
       "      <td>550000.000000</td>\n",
       "      <td>238770.420000</td>\n",
       "      <td>840692.000000</td>\n",
       "      <td>393528.000000</td>\n",
       "      <td>1.000000</td>\n",
       "    </tr>\n",
       "  </tbody>\n",
       "</table>\n",
       "</div>"
      ],
      "text/plain": [
       "       closed_cred_sum  closed_creds  active_cred_sum_overdue  \\\n",
       "count     4.284000e+04  42840.000000             4.284000e+04   \n",
       "mean      1.796340e+05      7.817530             4.973543e+04   \n",
       "std       5.099339e+05     13.947338             2.471866e+05   \n",
       "min       0.000000e+00      0.000000             0.000000e+00   \n",
       "25%       5.000000e+03      1.000000             0.000000e+00   \n",
       "50%       3.966417e+04      3.000000             5.000000e+03   \n",
       "75%       1.647455e+05      9.000000             3.038790e+04   \n",
       "max       4.457421e+07    563.000000             3.303100e+07   \n",
       "\n",
       "       active_cred_sum  active_cred_day_overdue  active_cred_max_overdue  \\\n",
       "count     4.284000e+04              42840.00000             4.284000e+04   \n",
       "mean      1.885019e+05                703.04211             3.643237e+04   \n",
       "std       4.247064e+05               1339.38624             1.693824e+05   \n",
       "min       0.000000e+00                  0.00000             0.000000e+00   \n",
       "25%       1.350000e+04                  0.00000             3.555075e+02   \n",
       "50%       5.421730e+04                 61.00000             6.427800e+03   \n",
       "75%       1.882242e+05                903.00000             2.345083e+04   \n",
       "max       2.273166e+07              21927.00000             2.170166e+07   \n",
       "\n",
       "                age        gender        region     first_loan  loan_cost_all  \\\n",
       "count  42840.000000  42840.000000  42840.000000   42840.000000   42840.000000   \n",
       "mean      35.011788      0.458987     28.433754    7725.842670    6632.355275   \n",
       "std       11.333374      0.498321     29.713931    5463.964229    4698.822292   \n",
       "min       18.000000      0.000000      0.000000    2000.000000     100.000000   \n",
       "25%       27.000000      0.000000      0.000000    5000.000000    3000.000000   \n",
       "50%       32.000000      0.000000     24.000000    7000.000000    7000.000000   \n",
       "75%       41.000000      1.000000     52.000000   10000.000000   10000.000000   \n",
       "max       99.000000      1.000000     99.000000  100000.000000  100000.000000   \n",
       "\n",
       "       first_days_quant   month_income       cost_all       order_id  \\\n",
       "count      42840.000000   42840.000000   42840.000000   42840.000000   \n",
       "mean          24.158147   25515.545763    1308.487423  731687.918651   \n",
       "std           37.723358   20532.932480    4693.128005   24984.564121   \n",
       "min            7.000000       0.000000       0.000000  695828.000000   \n",
       "25%           10.000000       0.000000       0.000000  712909.750000   \n",
       "50%           20.000000   26000.000000       0.000000  730594.500000   \n",
       "75%           20.000000   35000.000000       0.000000  746530.250000   \n",
       "max          336.000000  550000.000000  238770.420000  840692.000000   \n",
       "\n",
       "           client_id        expert  \n",
       "count   42840.000000  42840.000000  \n",
       "mean   285295.464706      0.261601  \n",
       "std     76418.839719      0.439512  \n",
       "min       109.000000      0.000000  \n",
       "25%    285798.500000      0.000000  \n",
       "50%    313287.500000      0.000000  \n",
       "75%    326631.250000      1.000000  \n",
       "max    393528.000000      1.000000  "
      ]
     },
     "execution_count": 32,
     "metadata": {},
     "output_type": "execute_result"
    }
   ],
   "source": [
    "## Посмторим основные статистические данные\n",
    "data.describe()"
   ]
  },
  {
   "cell_type": "markdown",
   "metadata": {},
   "source": [
    "Как и ожидалось у всех признаков большая дисперсия  "
   ]
  },
  {
   "cell_type": "code",
   "execution_count": 38,
   "metadata": {},
   "outputs": [],
   "source": [
    "## Попробуем избавиться от экстримальных выбросов, в тех признаках, в которых они есть, используя quantile\n",
    "columns_names = ['closed_cred_sum','closed_creds','active_cred_sum_overdue','active_cred_sum','active_cred_max_overdue']\n",
    "for column in columns_names:\n",
    "    data = data[data[column] < data[column].quantile(0.999)]\n",
    "data = data.reset_index(drop = True)"
   ]
  },
  {
   "cell_type": "code",
   "execution_count": 41,
   "metadata": {},
   "outputs": [
    {
     "data": {
      "image/png": "[encoded data removed]",
      "text/plain": [
       "<Figure size 1440x720 with 6 Axes>"
      ]
     },
     "metadata": {
      "needs_background": "light"
     },
     "output_type": "display_data"
    }
   ],
   "source": [
    "## Еще раз построим графики boxplot\n",
    "boxplot(data,['closed_cred_sum','closed_creds','active_cred_sum_overdue','active_cred_sum',\n",
    "                        'active_cred_day_overdue','active_cred_max_overdue'],2,3)"
   ]
  },
  {
   "cell_type": "markdown",
   "metadata": {},
   "source": [
    "Видим, что экстримальных выбросов стало меньше"
   ]
  },
  {
   "cell_type": "code",
   "execution_count": 42,
   "metadata": {},
   "outputs": [
    {
     "data": {
      "text/html": [
       "<div>\n",
       "<style scoped>\n",
       "    .dataframe tbody tr th:only-of-type {\n",
       "        vertical-align: middle;\n",
       "    }\n",
       "\n",
       "    .dataframe tbody tr th {\n",
       "        vertical-align: top;\n",
       "    }\n",
       "\n",
       "    .dataframe thead th {\n",
       "        text-align: right;\n",
       "    }\n",
       "</style>\n",
       "<table border=\"1\" class=\"dataframe\">\n",
       "  <thead>\n",
       "    <tr style=\"text-align: right;\">\n",
       "      <th></th>\n",
       "      <th>closed_cred_sum</th>\n",
       "      <th>closed_creds</th>\n",
       "      <th>active_cred_sum_overdue</th>\n",
       "      <th>active_cred_sum</th>\n",
       "      <th>active_cred_day_overdue</th>\n",
       "      <th>active_cred_max_overdue</th>\n",
       "      <th>age</th>\n",
       "      <th>first_loan</th>\n",
       "      <th>first_days_quant</th>\n",
       "      <th>month_income</th>\n",
       "      <th>loan_cost_all</th>\n",
       "      <th>cost_all</th>\n",
       "    </tr>\n",
       "    <tr>\n",
       "      <th>expert</th>\n",
       "      <th></th>\n",
       "      <th></th>\n",
       "      <th></th>\n",
       "      <th></th>\n",
       "      <th></th>\n",
       "      <th></th>\n",
       "      <th></th>\n",
       "      <th></th>\n",
       "      <th></th>\n",
       "      <th></th>\n",
       "      <th></th>\n",
       "      <th></th>\n",
       "    </tr>\n",
       "  </thead>\n",
       "  <tbody>\n",
       "    <tr>\n",
       "      <th>0</th>\n",
       "      <td>28525.0</td>\n",
       "      <td>3</td>\n",
       "      <td>8887.84</td>\n",
       "      <td>46962.545</td>\n",
       "      <td>185</td>\n",
       "      <td>9000.00</td>\n",
       "      <td>31</td>\n",
       "      <td>7000.0</td>\n",
       "      <td>18</td>\n",
       "      <td>20000.0</td>\n",
       "      <td>7000</td>\n",
       "      <td>0.0</td>\n",
       "    </tr>\n",
       "    <tr>\n",
       "      <th>1</th>\n",
       "      <td>91002.0</td>\n",
       "      <td>7</td>\n",
       "      <td>0.00</td>\n",
       "      <td>83000.000</td>\n",
       "      <td>0</td>\n",
       "      <td>2497.27</td>\n",
       "      <td>37</td>\n",
       "      <td>6000.0</td>\n",
       "      <td>20</td>\n",
       "      <td>35000.0</td>\n",
       "      <td>3000</td>\n",
       "      <td>2959.2</td>\n",
       "    </tr>\n",
       "  </tbody>\n",
       "</table>\n",
       "</div>"
      ],
      "text/plain": [
       "        closed_cred_sum  closed_creds  active_cred_sum_overdue  \\\n",
       "expert                                                           \n",
       "0               28525.0             3                  8887.84   \n",
       "1               91002.0             7                     0.00   \n",
       "\n",
       "        active_cred_sum  active_cred_day_overdue  active_cred_max_overdue  \\\n",
       "expert                                                                      \n",
       "0             46962.545                      185                  9000.00   \n",
       "1             83000.000                        0                  2497.27   \n",
       "\n",
       "        age  first_loan  first_days_quant  month_income  loan_cost_all  \\\n",
       "expert                                                                   \n",
       "0        31      7000.0                18       20000.0           7000   \n",
       "1        37      6000.0                20       35000.0           3000   \n",
       "\n",
       "        cost_all  \n",
       "expert            \n",
       "0            0.0  \n",
       "1         2959.2  "
      ]
     },
     "execution_count": 42,
     "metadata": {},
     "output_type": "execute_result"
    }
   ],
   "source": [
    "## Теперь сгруппируем данные так, чтобы было видно как отличаются значения признаков\n",
    "## в зависимости от значения целевой переменной\n",
    "data.groupby('expert').agg({'closed_cred_sum' : 'median','closed_creds' : 'median','active_cred_sum_overdue' : 'median',\n",
    "                            'active_cred_sum' : 'median','active_cred_day_overdue' : 'median',\n",
    "                            'active_cred_max_overdue' : 'median','age' : 'median','first_loan' : 'median',\n",
    "                             'first_days_quant' : 'median','month_income' : 'median', 'loan_cost_all' : 'median',\n",
    "                            'cost_all' : 'median'})"
   ]
  },
  {
   "cell_type": "markdown",
   "metadata": {},
   "source": [
    "Здесь используем медианное значение признаков, а не среднее, так как медиана лучше охарактеризует признаки в случае такого распределения. Среднее можно было бы использовать, если распределение нормальное (или билзкое к нему)  \n",
    "  \n",
    "Посмотрим результаты группировки:\n",
    "1. Closed_cred_sum (сумма выплаченных клиентом ранее полученных кредитов) - чем больше клиент оплачивал раньше кредиты, тем больше к нему доверия. Но конечно же клиент мог брать кредиты на сумму, гораздо превышающуюю его выплаты, поэтому строго судить логично ли такое соотношение нельзя. Но целевая переменная наверняка значимо зависит от данного признака.\n",
    "2. closed_creds (количество закрытых кредитов) - здесь логика примерно такая же как и с предыдущим признаком\n",
    "3. active_cred_sum_overdue (суммарная задолженность по активным кредитам) - здесь логично, у клиентов, которым отказали медианная задолжность выше\n",
    "4. active_cred_sum (сумма активных кредитов) - здесь труднее судить логичны данные значения или нет, и также о значимости данного признака\n",
    "5. active_cred_day_overdue (суммарная просрочка в днях по выплатам) - логично, что у клиентов, которым отказали просрочка больше\n",
    "6. active_cred_max_overdue (максимальная сумма просрочки) - здесь все также логично\n",
    "7. age (возраст) - видим, что чаще одобряли выдачу кредита, более взрослым клиентам.\n",
    "8. first_loan (желаеммая сумма кредита) - значения схожи, так что судить о значимости признака трудно, но в целом скорее чаще кредиты одобряют при меньшей запрашиваемой сумме\n",
    "9. first_days_quant (срок выдачи кредита - желаемый) - здесь также трудно интерпретировать как и с предыдущим признаком\n",
    "10. cost_all (сумма всех выплат по одобренному кредиту) - данный признак равен 0, если кредит не одобрен"
   ]
  },
  {
   "cell_type": "code",
   "execution_count": 43,
   "metadata": {},
   "outputs": [
    {
     "data": {
      "text/plain": [
       "0.9972056395274991"
      ]
     },
     "execution_count": 43,
     "metadata": {},
     "output_type": "execute_result"
    }
   ],
   "source": [
    "## мы не рассмотрели признак loan_cost_all(одобренная сумма кредита)\n",
    "## на самом деле он совпадает с признаком first_loan(желаеммая сумма) в случае отказа\n",
    "## увидим, что совпадение 99,7%\n",
    "data[data.loan_cost_all == data.first_loan].groupby('expert')['client_id'].count()[0]/data.groupby('expert')['client_id'].count()[0]"
   ]
  },
  {
   "cell_type": "code",
   "execution_count": 44,
   "metadata": {},
   "outputs": [
    {
     "data": {
      "text/plain": [
       "expert  gender\n",
       "0       0         16750\n",
       "        1         14742\n",
       "1       0          6293\n",
       "        1          4838\n",
       "Name: client_id, dtype: int64"
      ]
     },
     "execution_count": 44,
     "metadata": {},
     "output_type": "execute_result"
    }
   ],
   "source": [
    "## Сгруппируем данные по полу\n",
    "data.groupby(['expert','gender'])['client_id'].count()"
   ]
  },
  {
   "cell_type": "markdown",
   "metadata": {},
   "source": [
    "Видим, что от пола клиента не сильно зависит решение по выдачи кредита"
   ]
  },
  {
   "cell_type": "code",
   "execution_count": 45,
   "metadata": {},
   "outputs": [
    {
     "data": {
      "text/plain": [
       "<AxesSubplot:>"
      ]
     },
     "execution_count": 45,
     "metadata": {},
     "output_type": "execute_result"
    },
    {
     "data": {
      "image/png": "[encoded data removed]",
      "text/plain": [
       "<Figure size 1080x720 with 2 Axes>"
      ]
     },
     "metadata": {
      "needs_background": "light"
     },
     "output_type": "display_data"
    }
   ],
   "source": [
    "## Теперь построим матрицу корреляций\n",
    "import seaborn as sns\n",
    "plt.figure(figsize=(15, 10))\n",
    "sns.heatmap(data.corr(), \n",
    "        xticklabels=data.corr().columns,\n",
    "        yticklabels=data.corr().columns, annot =True)"
   ]
  },
  {
   "cell_type": "markdown",
   "metadata": {},
   "source": [
    "С целевой переменной сильнее коррелируют переменные: \n",
    "1. client_id - трудно сказать почему\n",
    "2. cost_all - как и ожидалось\n",
    "3. loan_cost_all - тоже вполне ожидаемо\n",
    "4. Чуть меньше коррелируют month_income, age, что вполне возможно\n",
    "Но большинство переменных очень слабо коррелируют с целевой, может быть конечно они не имеют значимого влияния на целевую переменную, но скорее их зависимость не линейна  \n",
    "  \n",
    "Сильно коррелирующие между сосбой признаки:\n",
    "1. loan_cost_all и first_loan - как мы и выяснили до этого\n",
    "2. active_cred_sum_overdure и active_cred_max_overdure - логично, что у некотрых клиентов сумма текущей задолженности может совпадать с максимальной суммой задолженности\n",
    "\n",
    "Учитывая распределение прзнаков и слабую корреляционную связь признаков с целевой переменной можно предположить, что линейные модели будут хуже предсказывать целевую переменную, в отличие от более сложных"
   ]
  },
  {
   "cell_type": "code",
   "execution_count": 71,
   "metadata": {},
   "outputs": [],
   "source": [
    "## Заведем список с именами числовых признаков\n",
    "numeric_names = ['closed_cred_sum','closed_creds','active_cred_sum_overdue','active_cred_sum','active_cred_day_overdue',\n",
    "                       'active_cred_max_overdue','first_loan','first_days_quant','month_income','age']"
   ]
  },
  {
   "cell_type": "markdown",
   "metadata": {},
   "source": [
    "В данный список не попадают такие признаки как:  \n",
    "1. gender(пол) - так как он принимает только два значения (0,1), соответственно его не нужно стандартизировать и на его распределение смотреть также нет смысла\n",
    "2. region - признак хоть и принимает численные значения, но его стоит рассматривать как категориальный\n",
    "3. loan_cost_all и cost_all - не стоит использовать данные признаки для прогнозирования, так как они слишком взаимосвязанны с целевой переменной\n",
    "4. overdate - дату использовать также не стоит, потому что данные предсталены всего за 4 месяца 2017 года и зависимость от даты будет ухудшать качество модели\n",
    "5. client_id, order_id - нет смысла использовать для предсказания номер заявки и номер клиента, так как в новых данных эти значения скорее всего будут тоже новые\n",
    "6. expert - целевая переменная"
   ]
  },
  {
   "cell_type": "code",
   "execution_count": 47,
   "metadata": {},
   "outputs": [],
   "source": [
    "## Теперь заведем список признаков, которые мы исключим при построении модели\n",
    "drop_columns = ['loan_cost_all','order_date','cost_all','order_id','client_id','expert']"
   ]
  },
  {
   "cell_type": "code",
   "execution_count": 72,
   "metadata": {},
   "outputs": [],
   "source": [
    "## Создадим функцию для стандартизации числовых признаков\n",
    "def scaler(df,columns):\n",
    "    scale = preprocessing.StandardScaler()\n",
    "    df_scale = scale.fit_transform(df[columns])\n",
    "    df_scale = pd.DataFrame(df_scale,columns = columns)\n",
    "    df_result = pd.concat([df_scale,df.drop(columns = columns)],axis = 1)\n",
    "    return df_result"
   ]
  },
  {
   "cell_type": "code",
   "execution_count": 73,
   "metadata": {},
   "outputs": [],
   "source": [
    "## Проведём стандартизацию числовых признаков\n",
    "from sklearn import preprocessing\n",
    "df_scale = scaler(data,numeric_names)\n",
    "df_scale = df_scale.reset_index(drop = True)"
   ]
  },
  {
   "cell_type": "code",
   "execution_count": 74,
   "metadata": {},
   "outputs": [],
   "source": [
    "## Теперь разделим данные: X - матрица признаков, y - вектор значений\n",
    "X = df_scale.drop(columns = drop_columns)\n",
    "y = df_scale.expert"
   ]
  },
  {
   "cell_type": "code",
   "execution_count": 75,
   "metadata": {},
   "outputs": [
    {
     "data": {
      "text/html": [
       "<div>\n",
       "<style scoped>\n",
       "    .dataframe tbody tr th:only-of-type {\n",
       "        vertical-align: middle;\n",
       "    }\n",
       "\n",
       "    .dataframe tbody tr th {\n",
       "        vertical-align: top;\n",
       "    }\n",
       "\n",
       "    .dataframe thead th {\n",
       "        text-align: right;\n",
       "    }\n",
       "</style>\n",
       "<table border=\"1\" class=\"dataframe\">\n",
       "  <thead>\n",
       "    <tr style=\"text-align: right;\">\n",
       "      <th></th>\n",
       "      <th>closed_cred_sum</th>\n",
       "      <th>closed_creds</th>\n",
       "      <th>active_cred_sum_overdue</th>\n",
       "      <th>active_cred_sum</th>\n",
       "      <th>active_cred_day_overdue</th>\n",
       "      <th>active_cred_max_overdue</th>\n",
       "      <th>first_loan</th>\n",
       "      <th>first_days_quant</th>\n",
       "      <th>month_income</th>\n",
       "      <th>age</th>\n",
       "      <th>gender</th>\n",
       "      <th>region</th>\n",
       "    </tr>\n",
       "  </thead>\n",
       "  <tbody>\n",
       "    <tr>\n",
       "      <th>0</th>\n",
       "      <td>-0.261183</td>\n",
       "      <td>-0.373153</td>\n",
       "      <td>0.980723</td>\n",
       "      <td>0.088251</td>\n",
       "      <td>2.462574</td>\n",
       "      <td>0.482980</td>\n",
       "      <td>-1.053171</td>\n",
       "      <td>-0.375101</td>\n",
       "      <td>1.202398</td>\n",
       "      <td>-0.616162</td>\n",
       "      <td>0</td>\n",
       "      <td>0</td>\n",
       "    </tr>\n",
       "    <tr>\n",
       "      <th>1</th>\n",
       "      <td>-0.400572</td>\n",
       "      <td>-0.291253</td>\n",
       "      <td>-0.266334</td>\n",
       "      <td>-0.499144</td>\n",
       "      <td>-0.126395</td>\n",
       "      <td>-0.317888</td>\n",
       "      <td>4.296970</td>\n",
       "      <td>2.323177</td>\n",
       "      <td>1.692197</td>\n",
       "      <td>0.531154</td>\n",
       "      <td>1</td>\n",
       "      <td>46</td>\n",
       "    </tr>\n",
       "    <tr>\n",
       "      <th>2</th>\n",
       "      <td>-0.453070</td>\n",
       "      <td>-0.536954</td>\n",
       "      <td>-0.045111</td>\n",
       "      <td>-0.330319</td>\n",
       "      <td>1.510714</td>\n",
       "      <td>-0.243135</td>\n",
       "      <td>-0.684196</td>\n",
       "      <td>-0.269286</td>\n",
       "      <td>0.467700</td>\n",
       "      <td>0.531154</td>\n",
       "      <td>1</td>\n",
       "      <td>0</td>\n",
       "    </tr>\n",
       "    <tr>\n",
       "      <th>3</th>\n",
       "      <td>-0.128241</td>\n",
       "      <td>-0.291253</td>\n",
       "      <td>0.383861</td>\n",
       "      <td>-0.017335</td>\n",
       "      <td>3.176852</td>\n",
       "      <td>0.291866</td>\n",
       "      <td>-0.130733</td>\n",
       "      <td>-0.322194</td>\n",
       "      <td>1.202398</td>\n",
       "      <td>0.354644</td>\n",
       "      <td>1</td>\n",
       "      <td>0</td>\n",
       "    </tr>\n",
       "    <tr>\n",
       "      <th>4</th>\n",
       "      <td>-0.470098</td>\n",
       "      <td>-0.618854</td>\n",
       "      <td>-0.102452</td>\n",
       "      <td>-0.435938</td>\n",
       "      <td>0.390788</td>\n",
       "      <td>-0.019742</td>\n",
       "      <td>0.422730</td>\n",
       "      <td>-0.375101</td>\n",
       "      <td>0.467700</td>\n",
       "      <td>-1.057437</td>\n",
       "      <td>1</td>\n",
       "      <td>32</td>\n",
       "    </tr>\n",
       "  </tbody>\n",
       "</table>\n",
       "</div>"
      ],
      "text/plain": [
       "   closed_cred_sum  closed_creds  active_cred_sum_overdue  active_cred_sum  \\\n",
       "0        -0.261183     -0.373153                 0.980723         0.088251   \n",
       "1        -0.400572     -0.291253                -0.266334        -0.499144   \n",
       "2        -0.453070     -0.536954                -0.045111        -0.330319   \n",
       "3        -0.128241     -0.291253                 0.383861        -0.017335   \n",
       "4        -0.470098     -0.618854                -0.102452        -0.435938   \n",
       "\n",
       "   active_cred_day_overdue  active_cred_max_overdue  first_loan  \\\n",
       "0                 2.462574                 0.482980   -1.053171   \n",
       "1                -0.126395                -0.317888    4.296970   \n",
       "2                 1.510714                -0.243135   -0.684196   \n",
       "3                 3.176852                 0.291866   -0.130733   \n",
       "4                 0.390788                -0.019742    0.422730   \n",
       "\n",
       "   first_days_quant  month_income       age  gender  region  \n",
       "0         -0.375101      1.202398 -0.616162       0       0  \n",
       "1          2.323177      1.692197  0.531154       1      46  \n",
       "2         -0.269286      0.467700  0.531154       1       0  \n",
       "3         -0.322194      1.202398  0.354644       1       0  \n",
       "4         -0.375101      0.467700 -1.057437       1      32  "
      ]
     },
     "execution_count": 75,
     "metadata": {},
     "output_type": "execute_result"
    }
   ],
   "source": [
    "## Посмотрим на матрицу X\n",
    "X.head()"
   ]
  },
  {
   "cell_type": "code",
   "execution_count": 76,
   "metadata": {},
   "outputs": [
    {
     "data": {
      "text/plain": [
       "0    0\n",
       "1    0\n",
       "2    0\n",
       "3    0\n",
       "4    0\n",
       "Name: expert, dtype: int64"
      ]
     },
     "execution_count": 76,
     "metadata": {},
     "output_type": "execute_result"
    }
   ],
   "source": [
    "## Посмотрим на метки классов y\n",
    "y.head()"
   ]
  },
  {
   "cell_type": "code",
   "execution_count": 77,
   "metadata": {},
   "outputs": [
    {
     "data": {
      "text/plain": [
       "0.2611500832883654"
      ]
     },
     "execution_count": 77,
     "metadata": {},
     "output_type": "execute_result"
    }
   ],
   "source": [
    "## Оценим баланс классов \n",
    "y[y == 1].shape[0]/y.shape[0]"
   ]
  },
  {
   "cell_type": "markdown",
   "metadata": {},
   "source": [
    "Видим, что классы не сбалансированны, значит для построения моделей придется делать балансировку классов  \n",
    "Также отсюда понимаем, что для оценки моделей лучше использовать метрики roc_auc_score, которая характеризует взаимосвязь fpr и tpr при разных порогах разделения меток классов, также f1_score (Ф-мера), которая характеризует взаимосвязь метрик precision (точность) и recall (полнота). При несбалансированных классах лучше использовать данные метрики в отличии от accuracy (доля правильных ответов), так как если к примеру взять наши данные и сделать предсказание таким образом, что все метки будут иметь класс 0, то доля правильных ответов будет 73.9%, что совершенно не говорит о точности нашей модели"
   ]
  },
  {
   "cell_type": "code",
   "execution_count": 78,
   "metadata": {},
   "outputs": [],
   "source": [
    "## Создадим функцию для вычисления roc_auc_score\n",
    "def auc_score(X_train,y_train,X_test,y_test,estimator):\n",
    "    print ('train_dataset_roc_auc_score',metrics.roc_auc_score(y_train,estimator.predict_proba(X_train)[:,1]),'\\n')\n",
    "    print ('test_dataset_roc_auc_score',metrics.roc_auc_score(y_test,estimator.predict_proba(X_test)[:,1]),'\\n')"
   ]
  },
  {
   "cell_type": "code",
   "execution_count": 79,
   "metadata": {},
   "outputs": [],
   "source": [
    "## Создадим функцию для вычисления f1_score\n",
    "def f1_score(X_train,y_train,X_test,y_test,estimator):\n",
    "    print ('train_dataset_f1_score',metrics.f1_score(y_train,estimator.predict(X_train)),'\\n')\n",
    "    print ('test_dataset_f1_score',metrics.f1_score(y_test,estimator.predict(X_test)),'\\n')"
   ]
  },
  {
   "cell_type": "code",
   "execution_count": 80,
   "metadata": {},
   "outputs": [],
   "source": [
    "## Разобъем наши данные на тренировочную и тестовую выборки\n",
    "## Для начала попробуем разбить данные таким образом, чтобы в тесте были более позднии данные, так как предсказывать целевую\n",
    "## переменную нам придется по данным будующих месяцев\n",
    "## Возьмём для теста 10000 последних объектов (данные мы отсортировали в самом начале)\n",
    "X_train = X[:-10000]\n",
    "X_test = X[-10000:]\n",
    "y_train = y[:-10000]\n",
    "y_test = y[-10000:]"
   ]
  },
  {
   "cell_type": "code",
   "execution_count": 81,
   "metadata": {},
   "outputs": [
    {
     "name": "stdout",
     "output_type": "stream",
     "text": [
      "(32623, 12)\n",
      "(10000, 12)\n"
     ]
    }
   ],
   "source": [
    "## Посмотрим на размер наших выборок\n",
    "print (X_train.shape)\n",
    "print (X_test.shape)"
   ]
  },
  {
   "cell_type": "code",
   "execution_count": 82,
   "metadata": {},
   "outputs": [],
   "source": [
    "## Теперь попробуем постороить первые модели\n",
    "## Для сравнения будем использовать Логистическую регрессию, Случайный лес и Градиентный бустинг\n",
    "log_reg = linear_model.LogisticRegression(random_state = 0, class_weight = 'balanced', max_iter = 200)\n",
    "rf_clf = ensemble.RandomForestClassifier(random_state = 0, class_weight = 'balanced')\n",
    "gb_clf = ensemble.GradientBoostingClassifier(random_state = 0)"
   ]
  },
  {
   "cell_type": "code",
   "execution_count": 83,
   "metadata": {},
   "outputs": [],
   "source": [
    "## Обучим логистическую регрессию регрессию\n",
    "log_reg = log_reg.fit(X_train,y_train)"
   ]
  },
  {
   "cell_type": "code",
   "execution_count": 84,
   "metadata": {},
   "outputs": [],
   "source": [
    "## Обучим RandomForestClassifier\n",
    "rf_clf = rf_clf.fit(X_train,y_train)"
   ]
  },
  {
   "cell_type": "code",
   "execution_count": 85,
   "metadata": {},
   "outputs": [],
   "source": [
    "## Обучим GeadientBoostingClassifier\n",
    "gb_clf = gb_clf.fit(X_train,y_train)"
   ]
  },
  {
   "cell_type": "code",
   "execution_count": 70,
   "metadata": {},
   "outputs": [
    {
     "name": "stdout",
     "output_type": "stream",
     "text": [
      "Логистическая регрессия\n",
      "\n",
      "train_dataset_roc_auc_score 0.7797787895471602 \n",
      "\n",
      "test_dataset_roc_auc_score 0.8116414774128493 \n",
      "\n",
      "train_dataset_f1_score 0.571352146582854 \n",
      "\n",
      "test_dataset_f1_score 0.5533776688834442 \n",
      "\n",
      "Случайный лес\n",
      "\n",
      "train_dataset_roc_auc_score 0.9999982000031068 \n",
      "\n",
      "test_dataset_roc_auc_score 0.92899481816895 \n",
      "\n",
      "train_dataset_f1_score 0.9996083916083915 \n",
      "\n",
      "test_dataset_f1_score 0.7163280662151995 \n",
      "\n",
      "Градиентный бустинг\n",
      "\n",
      "train_dataset_roc_auc_score 0.9299103225484828 \n",
      "\n",
      "test_dataset_roc_auc_score 0.9317833466369171 \n",
      "\n",
      "train_dataset_f1_score 0.730757264638168 \n",
      "\n",
      "test_dataset_f1_score 0.7041825095057035 \n",
      "\n"
     ]
    }
   ],
   "source": [
    "## Посмотрим на точность моделей по очереди по двум метрикам\n",
    "print ('Логистическая регрессия\\n')\n",
    "auc_score(X_train,y_train,X_test,y_test,log_reg)\n",
    "f1_score(X_train,y_train,X_test,y_test,log_reg)\n",
    "print ('Случайный лес\\n')\n",
    "auc_score(X_train,y_train,X_test,y_test,rf_clf)\n",
    "f1_score(X_train,y_train,X_test,y_test,rf_clf)\n",
    "print ('Градиентный бустинг\\n')\n",
    "auc_score(X_train,y_train,X_test,y_test,gb_clf)\n",
    "f1_score(X_train,y_train,X_test,y_test,gb_clf)"
   ]
  },
  {
   "cell_type": "markdown",
   "metadata": {},
   "source": [
    "Как и ожидалось логистическая регрессия сработала хуже чем сложные модели  \n",
    "Модель Случайного леса как-будто переобучилась, ошибка на тесте особенно для Ф-меры выглядит сильно больше чем на обучении"
   ]
  },
  {
   "cell_type": "code",
   "execution_count": 87,
   "metadata": {},
   "outputs": [],
   "source": [
    "## До этого мы использовали признак region как числовой\n",
    "## Для моделей RandomForest и GradientBoosting это не должно значительно влиять на качество, но для линейных моделей влияет\n",
    "## Поэтому проведем бинаризацию данных для признака region\n",
    "df_one_hot = pd.get_dummies(df_scale,columns = ['region'], sparse = False)"
   ]
  },
  {
   "cell_type": "code",
   "execution_count": 88,
   "metadata": {},
   "outputs": [],
   "source": [
    "## Теперь снова разделим данные\n",
    "X_one_hot = df_one_hot.drop(columns = drop_columns)\n",
    "y_one_hot = df_one_hot.expert"
   ]
  },
  {
   "cell_type": "code",
   "execution_count": 89,
   "metadata": {},
   "outputs": [],
   "source": [
    "## Снова разобьем данные на обучение и тест\n",
    "X_train = X_one_hot[:-10000]\n",
    "X_test = X_one_hot[-10000:]\n",
    "y_train = y_one_hot[:-10000]\n",
    "y_test = y_one_hot[-10000:]"
   ]
  },
  {
   "cell_type": "code",
   "execution_count": 90,
   "metadata": {},
   "outputs": [
    {
     "name": "stderr",
     "output_type": "stream",
     "text": [
      "C:\\Users\\n.dubrovnyj\\Anaconda3\\lib\\site-packages\\sklearn\\linear_model\\_logistic.py:762: ConvergenceWarning: lbfgs failed to converge (status=1):\n",
      "STOP: TOTAL NO. of ITERATIONS REACHED LIMIT.\n",
      "\n",
      "Increase the number of iterations (max_iter) or scale the data as shown in:\n",
      "    https://scikit-learn.org/stable/modules/preprocessing.html\n",
      "Please also refer to the documentation for alternative solver options:\n",
      "    https://scikit-learn.org/stable/modules/linear_model.html#logistic-regression\n",
      "  n_iter_i = _check_optimize_result(\n"
     ]
    }
   ],
   "source": [
    "## Обучим снова все модели\n",
    "log_reg = log_reg.fit(X_train,y_train)\n",
    "rf_clf = rf_clf.fit(X_train,y_train)\n",
    "gb_clf = gb_clf.fit(X_train,y_train)"
   ]
  },
  {
   "cell_type": "code",
   "execution_count": 91,
   "metadata": {},
   "outputs": [
    {
     "name": "stdout",
     "output_type": "stream",
     "text": [
      "Логистическая регрессия\n",
      "\n",
      "train_dataset_roc_auc_score 0.8197388197893756 \n",
      "\n",
      "test_dataset_roc_auc_score 0.8420438098934887 \n",
      "\n",
      "train_dataset_f1_score 0.616239663819981 \n",
      "\n",
      "test_dataset_f1_score 0.5960072595281307 \n",
      "\n",
      "Случайный лес\n",
      "\n",
      "train_dataset_roc_auc_score 0.9999978409486084 \n",
      "\n",
      "test_dataset_roc_auc_score 0.9282976422741687 \n",
      "\n",
      "train_dataset_f1_score 0.9996083916083915 \n",
      "\n",
      "test_dataset_f1_score 0.7078708375378405 \n",
      "\n",
      "Градиентный бустинг\n",
      "\n",
      "train_dataset_roc_auc_score 0.929146691583033 \n",
      "\n",
      "test_dataset_roc_auc_score 0.9317660398173591 \n",
      "\n",
      "train_dataset_f1_score 0.7270238317466244 \n",
      "\n",
      "test_dataset_f1_score 0.7047234150037889 \n",
      "\n"
     ]
    }
   ],
   "source": [
    "## Снова посмотрим на точность моделей по очереди по двум метрикам\n",
    "print ('Логистическая регрессия\\n')\n",
    "auc_score(X_train,y_train,X_test,y_test,log_reg)\n",
    "f1_score(X_train,y_train,X_test,y_test,log_reg)\n",
    "print ('Случайный лес\\n')\n",
    "auc_score(X_train,y_train,X_test,y_test,rf_clf)\n",
    "f1_score(X_train,y_train,X_test,y_test,rf_clf)\n",
    "print ('Градиентный бустинг\\n')\n",
    "auc_score(X_train,y_train,X_test,y_test,gb_clf)\n",
    "f1_score(X_train,y_train,X_test,y_test,gb_clf)"
   ]
  },
  {
   "cell_type": "markdown",
   "metadata": {},
   "source": [
    "Как и предполагали качество Логистической регрессии улучшилось, а на нелинейные модели бинаризация категориального признака никак не повлияла, поэтому как базовую модель будем использовать модель GradientBoostingClassifier  \n",
    "Также заметим что в некоторых случаях качество на тесте лучше качества на обучении, поэтому в дальнейшем для оценки качества будем использовать кросс валидацию.  \n",
    "  \n",
    "  Теперь еще попробуем проанализировать наши данные"
   ]
  },
  {
   "cell_type": "code",
   "execution_count": 124,
   "metadata": {},
   "outputs": [
    {
     "data": {
      "text/plain": [
       "<matplotlib.legend.Legend at 0x195283ea550>"
      ]
     },
     "execution_count": 124,
     "metadata": {},
     "output_type": "execute_result"
    },
    {
     "data": {
      "image/png": "[encoded data removed]",
      "text/plain": [
       "<Figure size 1080x360 with 2 Axes>"
      ]
     },
     "metadata": {
      "needs_background": "light"
     },
     "output_type": "display_data"
    }
   ],
   "source": [
    "## Построим распределение заявок по возрасту клиентов, для разных классов\n",
    "plt.figure(figsize = (15,5))\n",
    "plt.subplot(1,2,1)\n",
    "data.groupby('expert').age.hist()\n",
    "plt.title(\"Age distribution hist\")\n",
    "plt.xlabel(\"Age\")\n",
    "plt.ylabel(\"number of order\")\n",
    "plt.legend(['Класс 0', 'Класс 1'])\n",
    "plt.subplot(1,2,2)\n",
    "data.groupby('expert').age.plot(kind = 'kde')\n",
    "plt.title(\"Age density distribution\")\n",
    "plt.xlabel(\"Age\")\n",
    "plt.ylabel(\"density\")\n",
    "plt.legend(['Класс 0', 'Класс 1'])"
   ]
  },
  {
   "cell_type": "markdown",
   "metadata": {},
   "source": [
    "По графикам видим, что наибольшее количество заявок, как для класса 1 так и для класса 0, совершали клиенты в возрасте около 30 лет.  \n",
    "Также видим, что клиентам в возрасте старше 65, чаще одобряле кредит, чем не одобряли"
   ]
  },
  {
   "cell_type": "code",
   "execution_count": 131,
   "metadata": {},
   "outputs": [
    {
     "data": {
      "text/plain": [
       "<matplotlib.legend.Legend at 0x19529595eb0>"
      ]
     },
     "execution_count": 131,
     "metadata": {},
     "output_type": "execute_result"
    },
    {
     "data": {
      "image/png": "[encoded data removed]",
      "text/plain": [
       "<Figure size 1080x360 with 2 Axes>"
      ]
     },
     "metadata": {
      "needs_background": "light"
     },
     "output_type": "display_data"
    }
   ],
   "source": [
    "## Построим распределение заявок по месячному доходу клиентов, для разных классов\n",
    "plt.figure(figsize = (15,5))\n",
    "plt.subplot(1,2,1)\n",
    "data.groupby('expert').month_income.hist()\n",
    "plt.title(\"Mounth income distribution hist\")\n",
    "plt.xlabel(\"Mounth income\")\n",
    "plt.ylabel(\"number of order\")\n",
    "plt.xlim(0,200000)\n",
    "plt.legend(['Класс 0', 'Класс 1'])\n",
    "plt.subplot(1,2,2)\n",
    "data.groupby('expert').month_income.plot(kind = 'kde')\n",
    "plt.title(\"Mounth income density distribution\")\n",
    "plt.xlabel(\"Mounth income\")\n",
    "plt.ylabel(\"density\")\n",
    "plt.xlim(0,200000)\n",
    "plt.legend(['Класс 0', 'Класс 1'])"
   ]
  },
  {
   "cell_type": "markdown",
   "metadata": {},
   "source": [
    "Как мы и видели раньше распределение данного признака не \"нормальное\"  \n",
    "У клиентов с доходом выше примерно 110 тыс. только положительные решения по кредиту."
   ]
  },
  {
   "cell_type": "code",
   "execution_count": 140,
   "metadata": {},
   "outputs": [],
   "source": [
    "## Посмотрим теперь на значимость признаков используя модель Градиентного бустинга\n",
    "## Сначала добавим признак region к числовым признакам и обучим GradientBoostingClassifier на всех данных\n",
    "numeric_names = ['closed_cred_sum','closed_creds','active_cred_sum_overdue','active_cred_sum','active_cred_day_overdue',\n",
    "                       'active_cred_max_overdue','first_loan','first_days_quant','month_income','age','region']\n",
    "from sklearn import preprocessing\n",
    "df_scale = scaler(data,numeric_names)\n",
    "df_scale = df_scale.reset_index(drop = True)\n",
    "X = df_scale.drop(columns = drop_columns)\n",
    "y = df_scale.expert\n",
    "gb_clf = gb_clf.fit(X,y)"
   ]
  },
  {
   "cell_type": "code",
   "execution_count": 141,
   "metadata": {},
   "outputs": [
    {
     "data": {
      "text/plain": [
       "array([0.0104119 , 0.11955366, 0.11916625, 0.01788528, 0.07784789,\n",
       "       0.00536943, 0.15037517, 0.16225681, 0.20770787, 0.07350953,\n",
       "       0.05591622, 0.        ])"
      ]
     },
     "execution_count": 141,
     "metadata": {},
     "output_type": "execute_result"
    }
   ],
   "source": [
    "## Посмотрим значимость признаков\n",
    "gb_clf.feature_importances_"
   ]
  },
  {
   "cell_type": "code",
   "execution_count": 144,
   "metadata": {},
   "outputs": [
    {
     "data": {
      "text/html": [
       "<div>\n",
       "<style scoped>\n",
       "    .dataframe tbody tr th:only-of-type {\n",
       "        vertical-align: middle;\n",
       "    }\n",
       "\n",
       "    .dataframe tbody tr th {\n",
       "        vertical-align: top;\n",
       "    }\n",
       "\n",
       "    .dataframe thead th {\n",
       "        text-align: right;\n",
       "    }\n",
       "</style>\n",
       "<table border=\"1\" class=\"dataframe\">\n",
       "  <thead>\n",
       "    <tr style=\"text-align: right;\">\n",
       "      <th></th>\n",
       "      <th>feature_name</th>\n",
       "      <th>feature_importance</th>\n",
       "    </tr>\n",
       "  </thead>\n",
       "  <tbody>\n",
       "    <tr>\n",
       "      <th>0</th>\n",
       "      <td>closed_cred_sum</td>\n",
       "      <td>0.0104119</td>\n",
       "    </tr>\n",
       "    <tr>\n",
       "      <th>1</th>\n",
       "      <td>closed_creds</td>\n",
       "      <td>0.119554</td>\n",
       "    </tr>\n",
       "    <tr>\n",
       "      <th>2</th>\n",
       "      <td>active_cred_sum_overdue</td>\n",
       "      <td>0.119166</td>\n",
       "    </tr>\n",
       "    <tr>\n",
       "      <th>3</th>\n",
       "      <td>active_cred_sum</td>\n",
       "      <td>0.0178853</td>\n",
       "    </tr>\n",
       "    <tr>\n",
       "      <th>4</th>\n",
       "      <td>active_cred_day_overdue</td>\n",
       "      <td>0.0778479</td>\n",
       "    </tr>\n",
       "    <tr>\n",
       "      <th>5</th>\n",
       "      <td>active_cred_max_overdue</td>\n",
       "      <td>0.00536943</td>\n",
       "    </tr>\n",
       "    <tr>\n",
       "      <th>6</th>\n",
       "      <td>first_loan</td>\n",
       "      <td>0.150375</td>\n",
       "    </tr>\n",
       "    <tr>\n",
       "      <th>7</th>\n",
       "      <td>first_days_quant</td>\n",
       "      <td>0.162257</td>\n",
       "    </tr>\n",
       "    <tr>\n",
       "      <th>8</th>\n",
       "      <td>month_income</td>\n",
       "      <td>0.207708</td>\n",
       "    </tr>\n",
       "    <tr>\n",
       "      <th>9</th>\n",
       "      <td>age</td>\n",
       "      <td>0.0735095</td>\n",
       "    </tr>\n",
       "    <tr>\n",
       "      <th>10</th>\n",
       "      <td>region</td>\n",
       "      <td>0.0559162</td>\n",
       "    </tr>\n",
       "    <tr>\n",
       "      <th>11</th>\n",
       "      <td>gender</td>\n",
       "      <td>0</td>\n",
       "    </tr>\n",
       "  </tbody>\n",
       "</table>\n",
       "</div>"
      ],
      "text/plain": [
       "               feature_name feature_importance\n",
       "0           closed_cred_sum          0.0104119\n",
       "1              closed_creds           0.119554\n",
       "2   active_cred_sum_overdue           0.119166\n",
       "3           active_cred_sum          0.0178853\n",
       "4   active_cred_day_overdue          0.0778479\n",
       "5   active_cred_max_overdue         0.00536943\n",
       "6                first_loan           0.150375\n",
       "7          first_days_quant           0.162257\n",
       "8              month_income           0.207708\n",
       "9                       age          0.0735095\n",
       "10                   region          0.0559162\n",
       "11                   gender                  0"
      ]
     },
     "execution_count": 144,
     "metadata": {},
     "output_type": "execute_result"
    }
   ],
   "source": [
    "## Создадим DataFrame для значимости признаков\n",
    "df_feature_importance = pd.DataFrame(data = np.vstack((X.columns.values,gb_clf.feature_importances_)).transpose(),\n",
    "             columns =['feature_name','feature_importance'])\n",
    "df_feature_importance"
   ]
  },
  {
   "cell_type": "code",
   "execution_count": 148,
   "metadata": {},
   "outputs": [
    {
     "data": {
      "text/html": [
       "<div>\n",
       "<style scoped>\n",
       "    .dataframe tbody tr th:only-of-type {\n",
       "        vertical-align: middle;\n",
       "    }\n",
       "\n",
       "    .dataframe tbody tr th {\n",
       "        vertical-align: top;\n",
       "    }\n",
       "\n",
       "    .dataframe thead th {\n",
       "        text-align: right;\n",
       "    }\n",
       "</style>\n",
       "<table border=\"1\" class=\"dataframe\">\n",
       "  <thead>\n",
       "    <tr style=\"text-align: right;\">\n",
       "      <th></th>\n",
       "      <th>feature_name</th>\n",
       "      <th>feature_importance</th>\n",
       "    </tr>\n",
       "  </thead>\n",
       "  <tbody>\n",
       "    <tr>\n",
       "      <th>0</th>\n",
       "      <td>month_income</td>\n",
       "      <td>0.207708</td>\n",
       "    </tr>\n",
       "    <tr>\n",
       "      <th>1</th>\n",
       "      <td>first_days_quant</td>\n",
       "      <td>0.162257</td>\n",
       "    </tr>\n",
       "    <tr>\n",
       "      <th>2</th>\n",
       "      <td>first_loan</td>\n",
       "      <td>0.150375</td>\n",
       "    </tr>\n",
       "    <tr>\n",
       "      <th>3</th>\n",
       "      <td>closed_creds</td>\n",
       "      <td>0.119554</td>\n",
       "    </tr>\n",
       "    <tr>\n",
       "      <th>4</th>\n",
       "      <td>active_cred_sum_overdue</td>\n",
       "      <td>0.119166</td>\n",
       "    </tr>\n",
       "    <tr>\n",
       "      <th>5</th>\n",
       "      <td>active_cred_day_overdue</td>\n",
       "      <td>0.0778479</td>\n",
       "    </tr>\n",
       "    <tr>\n",
       "      <th>6</th>\n",
       "      <td>age</td>\n",
       "      <td>0.0735095</td>\n",
       "    </tr>\n",
       "    <tr>\n",
       "      <th>7</th>\n",
       "      <td>region</td>\n",
       "      <td>0.0559162</td>\n",
       "    </tr>\n",
       "    <tr>\n",
       "      <th>8</th>\n",
       "      <td>active_cred_sum</td>\n",
       "      <td>0.0178853</td>\n",
       "    </tr>\n",
       "    <tr>\n",
       "      <th>9</th>\n",
       "      <td>closed_cred_sum</td>\n",
       "      <td>0.0104119</td>\n",
       "    </tr>\n",
       "    <tr>\n",
       "      <th>10</th>\n",
       "      <td>active_cred_max_overdue</td>\n",
       "      <td>0.00536943</td>\n",
       "    </tr>\n",
       "    <tr>\n",
       "      <th>11</th>\n",
       "      <td>gender</td>\n",
       "      <td>0</td>\n",
       "    </tr>\n",
       "  </tbody>\n",
       "</table>\n",
       "</div>"
      ],
      "text/plain": [
       "               feature_name feature_importance\n",
       "0              month_income           0.207708\n",
       "1          first_days_quant           0.162257\n",
       "2                first_loan           0.150375\n",
       "3              closed_creds           0.119554\n",
       "4   active_cred_sum_overdue           0.119166\n",
       "5   active_cred_day_overdue          0.0778479\n",
       "6                       age          0.0735095\n",
       "7                    region          0.0559162\n",
       "8           active_cred_sum          0.0178853\n",
       "9           closed_cred_sum          0.0104119\n",
       "10  active_cred_max_overdue         0.00536943\n",
       "11                   gender                  0"
      ]
     },
     "execution_count": 148,
     "metadata": {},
     "output_type": "execute_result"
    }
   ],
   "source": [
    "## Теперь отсортируем признаки по их значимости\n",
    "df_feature_imporance = df_feature_importance.sort_values(by = 'feature_importance', ascending=False).reset_index(drop = True)\n",
    "df_feature_imporance"
   ]
  },
  {
   "cell_type": "markdown",
   "metadata": {},
   "source": [
    "Видим, что наиболее значимыми признаками являются: Месячный доход, желаемый срок кредита, желаемая сумма кредита, количество закрытых кредитов и сумма активной задолженности  \n",
    "  \n",
    "Наименее значимые: пол, максимальная сумма задолженности, сумма закрытых кредитов."
   ]
  },
  {
   "cell_type": "code",
   "execution_count": 149,
   "metadata": {},
   "outputs": [
    {
     "data": {
      "text/plain": [
       "0.9265388257326254"
      ]
     },
     "execution_count": 149,
     "metadata": {},
     "output_type": "execute_result"
    }
   ],
   "source": [
    "## Теперь попробуем сравнить качество модели со всеми признаками и модели без признака gender\n",
    "## Сначала оценим качество модели со всеми признаками на кросс валидации\n",
    "gb_clf = ensemble.GradientBoostingClassifier(random_state = 0)\n",
    "model_selection.cross_val_score(gb_clf,X,y,scoring = 'roc_auc', cv =7).mean()"
   ]
  },
  {
   "cell_type": "code",
   "execution_count": 155,
   "metadata": {},
   "outputs": [
    {
     "data": {
      "text/plain": [
       "0.9265199528964839"
      ]
     },
     "execution_count": 155,
     "metadata": {},
     "output_type": "execute_result"
    }
   ],
   "source": [
    "## Без признака gender\n",
    "model_selection.cross_val_score(gb_clf,X[df_feature_imporance[0:11].feature_name.values],y,scoring = 'roc_auc', cv =7).mean()"
   ]
  },
  {
   "cell_type": "code",
   "execution_count": 156,
   "metadata": {},
   "outputs": [
    {
     "data": {
      "text/plain": [
       "0.9260136924766177"
      ]
     },
     "execution_count": 156,
     "metadata": {},
     "output_type": "execute_result"
    }
   ],
   "source": [
    "## Видим, что качество не сильно пострадало, попробуем убрать еще один признак\n",
    "model_selection.cross_val_score(gb_clf,X[df_feature_imporance[0:10].feature_name.values],y,scoring = 'roc_auc', cv =7).mean()"
   ]
  },
  {
   "cell_type": "code",
   "execution_count": 157,
   "metadata": {},
   "outputs": [
    {
     "data": {
      "text/plain": [
       "0.9256341265462515"
      ]
     },
     "execution_count": 157,
     "metadata": {},
     "output_type": "execute_result"
    }
   ],
   "source": [
    "## Повторим процедуру\n",
    "model_selection.cross_val_score(gb_clf,X[df_feature_imporance[0:9].feature_name.values],y,scoring = 'roc_auc', cv =7).mean()"
   ]
  },
  {
   "cell_type": "code",
   "execution_count": 158,
   "metadata": {},
   "outputs": [
    {
     "data": {
      "text/plain": [
       "0.9222622851465634"
      ]
     },
     "execution_count": 158,
     "metadata": {},
     "output_type": "execute_result"
    }
   ],
   "source": [
    "model_selection.cross_val_score(gb_clf,X[df_feature_imporance[0:8].feature_name.values],y,scoring = 'roc_auc', cv =7).mean()"
   ]
  },
  {
   "cell_type": "code",
   "execution_count": 159,
   "metadata": {},
   "outputs": [
    {
     "data": {
      "text/plain": [
       "0.9162659918513796"
      ]
     },
     "execution_count": 159,
     "metadata": {},
     "output_type": "execute_result"
    }
   ],
   "source": [
    "## Здесь качество модели начинает меняться существеннее\n",
    "model_selection.cross_val_score(gb_clf,X[df_feature_imporance[0:7].feature_name.values],y,scoring = 'roc_auc', cv =7).mean()"
   ]
  },
  {
   "cell_type": "markdown",
   "metadata": {},
   "source": [
    "Видим, что если убрать 5 признаков, то кчество моедли по roc_auc_score снизится на 1%, поэтому остановимся на 8 признаках, чтобы попробовать настроить модель  \n",
    "  \n",
    "Для настройки модели будем измерять ее качество изменняя разные признаки по очереди  \n",
    "Можно использовать GridSearchCV, но работа с сеткой занимает слишком много времени"
   ]
  },
  {
   "cell_type": "code",
   "execution_count": 161,
   "metadata": {},
   "outputs": [],
   "source": [
    "## Создатим новую матрицу X_import_features\n",
    "X_import_features = X[df_feature_imporance[0:8].feature_name.values]"
   ]
  },
  {
   "cell_type": "code",
   "execution_count": 160,
   "metadata": {},
   "outputs": [
    {
     "data": {
      "text/plain": [
       "dict_keys(['ccp_alpha', 'criterion', 'init', 'learning_rate', 'loss', 'max_depth', 'max_features', 'max_leaf_nodes', 'min_impurity_decrease', 'min_impurity_split', 'min_samples_leaf', 'min_samples_split', 'min_weight_fraction_leaf', 'n_estimators', 'n_iter_no_change', 'presort', 'random_state', 'subsample', 'tol', 'validation_fraction', 'verbose', 'warm_start'])"
      ]
     },
     "execution_count": 160,
     "metadata": {},
     "output_type": "execute_result"
    }
   ],
   "source": [
    "## Посмотрим на параметры GradientBoostingClassifier\n",
    "gb_clf.get_params().keys()"
   ]
  },
  {
   "cell_type": "markdown",
   "metadata": {},
   "source": [
    "Для настройки попробуем подобрать следующие параметры:\n",
    "1. n_estimators - количество используемых деревьев\n",
    "2. max_depth - максимальная глубина дерева\n",
    "3. min_samples_split - минимальное количество образцов для разделения листа дерева\n",
    "4. min_samples_leaf - минимальное количество образцов находящихся в листе дерева  \n",
    "  \n",
    "Для оценки качества возьмем roc_auc_score"
   ]
  },
  {
   "cell_type": "code",
   "execution_count": 164,
   "metadata": {},
   "outputs": [],
   "source": [
    "## Разобьем данные на обучающую и тестовую выборки, чтобы проверять качество на обучении и на тесте,\n",
    "## также отрезая последние 10000 образцов для теста \n",
    "X_train = X_import_features[:-10000]\n",
    "X_test = X_import_features[-10000:]\n",
    "y_train = y[:-10000]\n",
    "y_test = y[-10000:]"
   ]
  },
  {
   "cell_type": "code",
   "execution_count": 166,
   "metadata": {},
   "outputs": [
    {
     "name": "stdout",
     "output_type": "stream",
     "text": [
      "1\n",
      "2\n",
      "4\n",
      "8\n"
     ]
    }
   ],
   "source": [
    "## Сначала протестируем модель при разных парметрах min_samples_leaf\n",
    "n_sample_leaf = [1,2,4,8]\n",
    "train_score_leaf = []\n",
    "test_score_leaf = []\n",
    "for i in n_sample_leaf:\n",
    "    gb_clf = ensemble.GradientBoostingClassifier(min_samples_leaf = i)\n",
    "    gb_clf = gb_clf.fit(X_train,y_train)\n",
    "    train_score_leaf.append(metrics.roc_auc_score(y_train,gb_clf.predict_proba(X_train)[:,1]))\n",
    "    test_score_leaf.append(metrics.roc_auc_score(y_test,gb_clf.predict_proba(X_test)[:,1]))\n",
    "    print (i)\n",
    "train_score_leaf = np.array(train_score_leaf)\n",
    "test_score_leaf = np.array(test_score_leaf)"
   ]
  },
  {
   "cell_type": "code",
   "execution_count": 167,
   "metadata": {},
   "outputs": [
    {
     "data": {
      "text/plain": [
       "<matplotlib.legend.Legend at 0x19529d30eb0>"
      ]
     },
     "execution_count": 167,
     "metadata": {},
     "output_type": "execute_result"
    },
    {
     "data": {
      "image/png": "[encoded data removed]",
      "text/plain": [
       "<Figure size 1080x720 with 1 Axes>"
      ]
     },
     "metadata": {
      "needs_background": "light"
     },
     "output_type": "display_data"
    }
   ],
   "source": [
    "## Построим график качества модели в зависимости от параметра min_samples_leaf\n",
    "plt.figure(figsize = (15,10))\n",
    "plt.plot(n_sample_leaf,train_score_leaf,'r-',n_sample_leaf,test_score_leaf,'g-')\n",
    "plt.title('GradientBoostingClassifier')\n",
    "plt.xlabel('n_sample_leaf')\n",
    "plt.ylabel('roc_auc_score')\n",
    "plt.legend(['Train','Test'], loc=2)"
   ]
  },
  {
   "cell_type": "markdown",
   "metadata": {},
   "source": [
    "Видим, что качество модели начинает падать при количестве образцов в каждом листе больше 4  \n",
    "  \n",
    "Вывод значений парметра мне нужен, чтобы отслеживать на каком этапе находится обучение"
   ]
  },
  {
   "cell_type": "code",
   "execution_count": 174,
   "metadata": {},
   "outputs": [
    {
     "name": "stdout",
     "output_type": "stream",
     "text": [
      "20\n",
      "50\n",
      "80\n",
      "100\n"
     ]
    }
   ],
   "source": [
    "## Протестируем модель при разных значениях парметра min_samples_split\n",
    "n_sample_split = [20,50,80,100]\n",
    "train_score_split = []\n",
    "test_score_split = []\n",
    "for i in n_sample_split:\n",
    "    gb_clf = ensemble.GradientBoostingClassifier(min_samples_split = i)\n",
    "    gb_clf = gb_clf.fit(X_train,y_train)\n",
    "    train_score_split.append(metrics.roc_auc_score(y_train,gb_clf.predict_proba(X_train)[:,1]))\n",
    "    test_score_split.append(metrics.roc_auc_score(y_test,gb_clf.predict_proba(X_test)[:,1]))\n",
    "    print (i)\n",
    "train_score_split = np.array(train_score_split)\n",
    "test_score_split = np.array(test_score_split)"
   ]
  },
  {
   "cell_type": "code",
   "execution_count": 175,
   "metadata": {},
   "outputs": [
    {
     "data": {
      "text/plain": [
       "<matplotlib.legend.Legend at 0x1952a2d7a60>"
      ]
     },
     "execution_count": 175,
     "metadata": {},
     "output_type": "execute_result"
    },
    {
     "data": {
      "image/png": "[encoded data removed]",
      "text/plain": [
       "<Figure size 1080x720 with 1 Axes>"
      ]
     },
     "metadata": {
      "needs_background": "light"
     },
     "output_type": "display_data"
    }
   ],
   "source": [
    "## Построим график качества модели в зависимости от параметра min_samples_split\n",
    "plt.figure(figsize = (15,10))\n",
    "plt.plot(n_sample_split,train_score_split,'r-',n_sample_split,test_score_split,'g-')\n",
    "plt.title('GradientBoostingClassifier')\n",
    "plt.xlabel('n_sample_split')\n",
    "plt.ylabel('roc_auc_score')\n",
    "plt.legend(['Train','Test'], loc=2)"
   ]
  },
  {
   "cell_type": "markdown",
   "metadata": {},
   "source": [
    "Лучшее качество достигается при минимальном количистве объектов необходимых для разбиения равным 50"
   ]
  },
  {
   "cell_type": "code",
   "execution_count": 179,
   "metadata": {},
   "outputs": [
    {
     "name": "stdout",
     "output_type": "stream",
     "text": [
      "2\n",
      "4\n",
      "6\n",
      "10\n"
     ]
    }
   ],
   "source": [
    "## Протестируем модель при разных значениях парметра max_depth,\n",
    "## но уже будем использовать предыдущие параметры, для более быстрой работы модели\n",
    "n_depth = [2,4,6,10]\n",
    "train_score_depth = []\n",
    "test_score_depth = []\n",
    "for i in n_depth:\n",
    "    gb_clf = ensemble.GradientBoostingClassifier(min_samples_split = 50, min_samples_leaf = 4, max_depth = i)\n",
    "    gb_clf = gb_clf.fit(X_train,y_train)\n",
    "    train_score_depth.append(metrics.roc_auc_score(y_train,gb_clf.predict_proba(X_train)[:,1]))\n",
    "    test_score_depth.append(metrics.roc_auc_score(y_test,gb_clf.predict_proba(X_test)[:,1]))\n",
    "    print (i)\n",
    "train_score_depth = np.array(train_score_depth)\n",
    "test_score_depth = np.array(test_score_depth)"
   ]
  },
  {
   "cell_type": "code",
   "execution_count": 180,
   "metadata": {},
   "outputs": [
    {
     "data": {
      "text/plain": [
       "<matplotlib.legend.Legend at 0x1952c2d9cd0>"
      ]
     },
     "execution_count": 180,
     "metadata": {},
     "output_type": "execute_result"
    },
    {
     "data": {
      "image/png": "[encoded data removed]",
      "text/plain": [
       "<Figure size 1080x720 with 1 Axes>"
      ]
     },
     "metadata": {
      "needs_background": "light"
     },
     "output_type": "display_data"
    }
   ],
   "source": [
    "## Построим график качества модели в зависимости от параметра max_depth\n",
    "plt.figure(figsize = (15,10))\n",
    "plt.plot(n_depth,train_score_depth,'r-',n_depth,test_score_depth,'g-')\n",
    "plt.title('GradientBoostingClassifier')\n",
    "plt.xlabel('n_depth')\n",
    "plt.ylabel('roc_auc_score')\n",
    "plt.legend(['Train','Test'], loc=2)"
   ]
  },
  {
   "cell_type": "markdown",
   "metadata": {},
   "source": [
    "Лучшее качество модели на тесте при глубине 4, дальше заметно переобучение"
   ]
  },
  {
   "cell_type": "code",
   "execution_count": 185,
   "metadata": {},
   "outputs": [
    {
     "name": "stdout",
     "output_type": "stream",
     "text": [
      "100\n",
      "200\n",
      "300\n",
      "500\n"
     ]
    }
   ],
   "source": [
    "## Протестируем модель при разных значениях парметра n_estimators\n",
    "n_estimators = [100,200,300,500]\n",
    "train_score_estimators = []\n",
    "test_score_estimators = []\n",
    "for i in n_estimators:\n",
    "    gb_clf = ensemble.GradientBoostingClassifier( n_estimators = i)\n",
    "    gb_clf = gb_clf.fit(X_train,y_train)\n",
    "    train_score_estimators.append(metrics.roc_auc_score(y_train,gb_clf.predict_proba(X_train)[:,1]))\n",
    "    test_score_estimators.append(metrics.roc_auc_score(y_test,gb_clf.predict_proba(X_test)[:,1]))\n",
    "    print (i)\n",
    "train_score_estimators = np.array(train_score_estimators)\n",
    "test_score_estimators = np.array(test_score_estimators)"
   ]
  },
  {
   "cell_type": "code",
   "execution_count": 187,
   "metadata": {},
   "outputs": [
    {
     "data": {
      "text/plain": [
       "<matplotlib.legend.Legend at 0x1952ceccb80>"
      ]
     },
     "execution_count": 187,
     "metadata": {},
     "output_type": "execute_result"
    },
    {
     "data": {
      "image/png": "[encoded data removed]",
      "text/plain": [
       "<Figure size 1080x720 with 1 Axes>"
      ]
     },
     "metadata": {
      "needs_background": "light"
     },
     "output_type": "display_data"
    }
   ],
   "source": [
    "## Построим график качества модели в зависимости от параметра n_estimators\n",
    "plt.figure(figsize = (15,10))\n",
    "plt.plot(n_estimators,train_score_estimators,'r-',n_estimators,test_score_estimators,'g-')\n",
    "plt.title('GradientBoostingClassifier')\n",
    "plt.xlabel('n_estimators')\n",
    "plt.ylabel('roc_auc_score')\n",
    "plt.legend(['Train','Test'], loc=2)"
   ]
  },
  {
   "cell_type": "markdown",
   "metadata": {},
   "source": [
    "Видим лучшее качество модели при количестве деревьев 300"
   ]
  },
  {
   "cell_type": "code",
   "execution_count": 188,
   "metadata": {},
   "outputs": [
    {
     "name": "stdout",
     "output_type": "stream",
     "text": [
      "2\n",
      "4\n",
      "6\n",
      "10\n"
     ]
    }
   ],
   "source": [
    "## Снова проверим параметр глубины дерева\n",
    "n_depth = [2,4,6,10]\n",
    "train_score_depth = []\n",
    "test_score_depth = []\n",
    "for i in n_depth:\n",
    "    gb_clf = ensemble.GradientBoostingClassifier(min_samples_split = 50, min_samples_leaf = 4, max_depth = i, n_estimators = 300)\n",
    "    gb_clf = gb_clf.fit(X_train,y_train)\n",
    "    train_score_depth.append(metrics.roc_auc_score(y_train,gb_clf.predict_proba(X_train)[:,1]))\n",
    "    test_score_depth.append(metrics.roc_auc_score(y_test,gb_clf.predict_proba(X_test)[:,1]))\n",
    "    print (i)\n",
    "train_score_depth = np.array(train_score_depth)\n",
    "test_score_depth = np.array(test_score_depth)"
   ]
  },
  {
   "cell_type": "code",
   "execution_count": 189,
   "metadata": {},
   "outputs": [
    {
     "data": {
      "text/plain": [
       "<matplotlib.legend.Legend at 0x1952d380790>"
      ]
     },
     "execution_count": 189,
     "metadata": {},
     "output_type": "execute_result"
    },
    {
     "data": {
      "image/png": "[encoded data removed]",
      "text/plain": [
       "<Figure size 1080x720 with 1 Axes>"
      ]
     },
     "metadata": {
      "needs_background": "light"
     },
     "output_type": "display_data"
    }
   ],
   "source": [
    "## Построим график качества модели в зависимости от параметра max_depth\n",
    "plt.figure(figsize = (15,10))\n",
    "plt.plot(n_depth,train_score_depth,'r-',n_depth,test_score_depth,'g-')\n",
    "plt.title('GradientBoostingClassifier')\n",
    "plt.xlabel('n_depth')\n",
    "plt.ylabel('roc_auc_score')\n",
    "plt.legend(['Train','Test'], loc=2)"
   ]
  },
  {
   "cell_type": "markdown",
   "metadata": {},
   "source": [
    "Видим, что теперь качество лучше при глубине дерева 2"
   ]
  },
  {
   "cell_type": "code",
   "execution_count": 193,
   "metadata": {},
   "outputs": [
    {
     "name": "stdout",
     "output_type": "stream",
     "text": [
      "50\n",
      "100\n",
      "200\n"
     ]
    }
   ],
   "source": [
    "## Снова тестируем модель в зависимотсти от min_samples_split\n",
    "n_sample_split = [50,100, 200]\n",
    "train_score_split = []\n",
    "test_score_split = []\n",
    "for i in n_sample_split:\n",
    "    gb_clf = ensemble.GradientBoostingClassifier(min_samples_split = i, min_samples_leaf = 4, max_depth = 2, n_estimators = 300)\n",
    "    gb_clf = gb_clf.fit(X_train,y_train)\n",
    "    train_score_split.append(metrics.roc_auc_score(y_train,gb_clf.predict_proba(X_train)[:,1]))\n",
    "    test_score_split.append(metrics.roc_auc_score(y_test,gb_clf.predict_proba(X_test)[:,1]))\n",
    "    print (i)\n",
    "train_score_split = np.array(train_score_split)\n",
    "test_score_split = np.array(test_score_split)"
   ]
  },
  {
   "cell_type": "code",
   "execution_count": 194,
   "metadata": {},
   "outputs": [
    {
     "data": {
      "text/plain": [
       "<matplotlib.legend.Legend at 0x1952d8caf40>"
      ]
     },
     "execution_count": 194,
     "metadata": {},
     "output_type": "execute_result"
    },
    {
     "data": {
      "image/png": "[encoded data removed]",
      "text/plain": [
       "<Figure size 1080x720 with 1 Axes>"
      ]
     },
     "metadata": {
      "needs_background": "light"
     },
     "output_type": "display_data"
    }
   ],
   "source": [
    "## Построим график качества модели в зависимости от параметра min_samples_split\n",
    "plt.figure(figsize = (15,10))\n",
    "plt.plot(n_sample_split,train_score_split,'r-',n_sample_split,test_score_split,'g-')\n",
    "plt.title('GradientBoostingClassifier')\n",
    "plt.xlabel('n_sample_split')\n",
    "plt.ylabel('roc_auc_score')\n",
    "plt.legend(['Train','Test'], loc=2)"
   ]
  },
  {
   "cell_type": "markdown",
   "metadata": {},
   "source": [
    "Теперь качество лучше при 100 объектах для разбиения"
   ]
  },
  {
   "cell_type": "code",
   "execution_count": 195,
   "metadata": {},
   "outputs": [
    {
     "name": "stdout",
     "output_type": "stream",
     "text": [
      "1\n",
      "2\n",
      "4\n",
      "8\n"
     ]
    }
   ],
   "source": [
    "## Ну еще раз подберем значения для min_samples_leaf\n",
    "n_sample_leaf = [1,2,4,8]\n",
    "train_score_leaf = []\n",
    "test_score_leaf = []\n",
    "for i in n_sample_leaf:\n",
    "    gb_clf = ensemble.GradientBoostingClassifier(min_samples_split = 100, min_samples_leaf = i, max_depth = 2, n_estimators = 300)\n",
    "    gb_clf = gb_clf.fit(X_train,y_train)\n",
    "    train_score_leaf.append(metrics.roc_auc_score(y_train,gb_clf.predict_proba(X_train)[:,1]))\n",
    "    test_score_leaf.append(metrics.roc_auc_score(y_test,gb_clf.predict_proba(X_test)[:,1]))\n",
    "    print (i)\n",
    "train_score_leaf = np.array(train_score_leaf)\n",
    "test_score_leaf = np.array(test_score_leaf)"
   ]
  },
  {
   "cell_type": "code",
   "execution_count": 196,
   "metadata": {},
   "outputs": [
    {
     "data": {
      "text/plain": [
       "<matplotlib.legend.Legend at 0x1952db50be0>"
      ]
     },
     "execution_count": 196,
     "metadata": {},
     "output_type": "execute_result"
    },
    {
     "data": {
      "image/png": "[encoded data removed]",
      "text/plain": [
       "<Figure size 1080x720 with 1 Axes>"
      ]
     },
     "metadata": {
      "needs_background": "light"
     },
     "output_type": "display_data"
    }
   ],
   "source": [
    "plt.figure(figsize = (15,10))\n",
    "plt.plot(n_sample_leaf,train_score_leaf,'r-',n_sample_leaf,test_score_leaf,'g-')\n",
    "plt.title('GradientBoostingClassifier')\n",
    "plt.xlabel('n_sample_leaf')\n",
    "plt.ylabel('roc_auc_score')\n",
    "plt.legend(['Train','Test'], loc=2)"
   ]
  },
  {
   "cell_type": "markdown",
   "metadata": {},
   "source": [
    "Видим, что здесь ничего не изменилось"
   ]
  },
  {
   "cell_type": "code",
   "execution_count": 197,
   "metadata": {},
   "outputs": [
    {
     "data": {
      "text/plain": [
       "0.9246682343208803"
      ]
     },
     "execution_count": 197,
     "metadata": {},
     "output_type": "execute_result"
    }
   ],
   "source": [
    "## Теперь замерим качество на кросс валидации для 8 признаков и для 12 признаков\n",
    "gb_clf = ensemble.GradientBoostingClassifier(min_samples_split = 100, min_samples_leaf = 4, max_depth = 2, n_estimators = 300)\n",
    "model_selection.cross_val_score(gb_clf,X[df_feature_imporance[0:8].feature_name.values],y,scoring = 'roc_auc', cv =7).mean()"
   ]
  },
  {
   "cell_type": "code",
   "execution_count": 198,
   "metadata": {},
   "outputs": [
    {
     "data": {
      "text/plain": [
       "0.9294133011697588"
      ]
     },
     "execution_count": 198,
     "metadata": {},
     "output_type": "execute_result"
    }
   ],
   "source": [
    "model_selection.cross_val_score(gb_clf,X,y,scoring = 'roc_auc', cv =7).mean()"
   ]
  },
  {
   "cell_type": "markdown",
   "metadata": {},
   "source": [
    "Видим, что качество улучшилось, хоть и не сильно  \n",
    "Для более качественного подбора параметров необходимо использовать GridSearchCV - это сетка, которая перебирает парметра и сразу сравнивает модели на кросс валидации тем самым подбирая лучшую модель, но как я говорил, требует слишком много времени для обучения модели"
   ]
  },
  {
   "cell_type": "code",
   "execution_count": 200,
   "metadata": {},
   "outputs": [],
   "source": [
    "## Теперь подберем порог, по которому разбиваются классы на 0 и 1, по умолчанию он равен 0.5, \n",
    "## то есть если вероятность принадлежности 1 классу больше 0.5, то модель помечает 1 класс для объекта, наоборот 0 класс.\n",
    "## Для начала снова обучим нашу модель\n",
    "gb_clf = gb_clf.fit(X,y)"
   ]
  },
  {
   "cell_type": "code",
   "execution_count": 202,
   "metadata": {},
   "outputs": [
    {
     "data": {
      "text/plain": [
       "<matplotlib.legend.Legend at 0x19529ea0100>"
      ]
     },
     "execution_count": 202,
     "metadata": {},
     "output_type": "execute_result"
    },
    {
     "data": {
      "image/png": "[encoded data removed]",
      "text/plain": [
       "<Figure size 720x360 with 1 Axes>"
      ]
     },
     "metadata": {
      "needs_background": "light"
     },
     "output_type": "display_data"
    }
   ],
   "source": [
    "## Построим ROC кривую\n",
    "plt.figure(figsize=(10, 5))\n",
    "fpr, tpr, thresholds = metrics.roc_curve(y,gb_clf.predict_proba(X)[:,1])\n",
    "plt.plot(fpr, tpr)\n",
    "\n",
    "plt.xlabel(\"false positive rate\")\n",
    "plt.ylabel(\"true positive rate\")\n",
    "plt.legend(['roc_auc'], loc=2)"
   ]
  },
  {
   "cell_type": "code",
   "execution_count": 203,
   "metadata": {},
   "outputs": [
    {
     "name": "stdout",
     "output_type": "stream",
     "text": [
      "0.27654171828256807\n"
     ]
    }
   ],
   "source": [
    "## Найдем наилучший порог\n",
    "dist_list = []\n",
    "for i,j in zip(fpr,tpr):\n",
    "    dist_list.append(math.sqrt((0-i)**2+(1-j)**2))\n",
    "T = thresholds[dist_list.index((min(dist_list)))]\n",
    "print (T)"
   ]
  },
  {
   "cell_type": "markdown",
   "metadata": {},
   "source": [
    "Видим, что наилучший порог для разбиения 0,276, значит при вероятности принадлежности объекта к 1 классу более этого значения, стоит относить объект к 1 классу  \n",
    "  \n",
    "Теперь снова разобьем выборку на обучение и тест и сравнм значение Ф-меры при разных порогах"
   ]
  },
  {
   "cell_type": "code",
   "execution_count": 204,
   "metadata": {},
   "outputs": [],
   "source": [
    "## Делим данные на 2 выборки\n",
    "X_train = X[:-10000]\n",
    "X_test = X[-10000:]\n",
    "y_train = y[:-10000]\n",
    "y_test = y[-10000:]"
   ]
  },
  {
   "cell_type": "code",
   "execution_count": 205,
   "metadata": {},
   "outputs": [],
   "source": [
    "## Обучим заново нашу модель\n",
    "gb_clf = ensemble.GradientBoostingClassifier(min_samples_split = 100, min_samples_leaf = 4, max_depth = 2, n_estimators = 300)\n",
    "gb_clf = gb_clf.fit(X_train,y_train)"
   ]
  },
  {
   "cell_type": "code",
   "execution_count": 210,
   "metadata": {},
   "outputs": [
    {
     "name": "stdout",
     "output_type": "stream",
     "text": [
      "Значения Ф-меры с порогом по умолчанию\n",
      "\n",
      "train_dataset_f1_score 0.7402256785605368 \n",
      "\n",
      "test_dataset_f1_score 0.7153539381854437 \n",
      "\n"
     ]
    }
   ],
   "source": [
    "## Сначала замерим значения Ф-меры при пороге по умолчанию\n",
    "print ('Значения Ф-меры с порогом по умолчанию\\n')\n",
    "f1_score(X_train,y_train,X_test,y_test,gb_clf)"
   ]
  },
  {
   "cell_type": "code",
   "execution_count": 207,
   "metadata": {},
   "outputs": [],
   "source": [
    "## Разобьем метки классов отностиельно нового порога\n",
    "y_pred = []\n",
    "for i in gb_clf.predict_proba(X_test)[:,1]:\n",
    "    if i > T:\n",
    "        y_pred.append(1)\n",
    "    else:\n",
    "        y_pred.append(0)\n",
    "y_pred = np.array(y_pred)"
   ]
  },
  {
   "cell_type": "code",
   "execution_count": 211,
   "metadata": {},
   "outputs": [
    {
     "name": "stdout",
     "output_type": "stream",
     "text": [
      "Значения Ф-меры с порогом T = 0.276\n",
      "\n"
     ]
    },
    {
     "data": {
      "text/plain": [
       "0.7286452125546286"
      ]
     },
     "execution_count": 211,
     "metadata": {},
     "output_type": "execute_result"
    }
   ],
   "source": [
    "## Теперь оценим Ф-меру для нового порога\n",
    "print ('Значения Ф-меры с порогом T = 0.276\\n')\n",
    "metrics.f1_score(y_test,y_pred)"
   ]
  },
  {
   "cell_type": "code",
   "execution_count": 213,
   "metadata": {},
   "outputs": [
    {
     "name": "stdout",
     "output_type": "stream",
     "text": [
      "Значения точности и полноты\n",
      "\n",
      "0.6460021134202184\n",
      "0.8355353075170843\n"
     ]
    }
   ],
   "source": [
    "## Также измерим значения точности и полноты\n",
    "print ('Значения точности и полноты\\n')\n",
    "print (metrics.precision_score(y_test,y_pred))\n",
    "print (metrics.recall_score(y_test,y_pred))"
   ]
  },
  {
   "cell_type": "markdown",
   "metadata": {},
   "source": [
    "Видим, что при изменении порога качество модели улучшилось"
   ]
  },
  {
   "cell_type": "markdown",
   "metadata": {},
   "source": [
    "После проделанной работы для предсказания целевой переменной выберем:  \n",
    "1. Модель - GradientBoostingClassifier(min_samples_split = 100, min_samples_leaf = 4, max_depth = 2, n_estimators = 300)\n",
    "2. Метрики оценки качества ROC_AUC_Score и F1_Score"
   ]
  }
 ],
 "metadata": {
  "kernelspec": {
   "display_name": "Python 3",
   "language": "python",
   "name": "python3"
  },
  "language_info": {
   "codemirror_mode": {
    "name": "ipython",
    "version": 3
   },
   "file_extension": ".py",
   "mimetype": "text/x-python",
   "name": "python",
   "nbconvert_exporter": "python",
   "pygments_lexer": "ipython3",
   "version": "3.8.5"
  }
 },
 "nbformat": 4,
 "nbformat_minor": 4
}
