{
 "cells": [
  {
   "cell_type": "code",
   "execution_count": 1,
   "metadata": {
    "_cell_guid": "b1076dfc-b9ad-4769-8c92-a6c4dae69d19",
    "_uuid": "8f2839f25d086af736a60e9eeb907d3b93b6e0e5"
   },
   "outputs": [
    {
     "name": "stdout",
     "output_type": "stream",
     "text": [
      "/kaggle/input/train-test/xakaton_train.csv\n",
      "/kaggle/input/train-test/xakaton_test.csv\n",
      "/kaggle/input/train-new/train_new.csv\n",
      "/kaggle/input/all-files/velocity.csv\n",
      "/kaggle/input/all-files/set.csv\n",
      "/kaggle/input/all-files/remont.csv\n",
      "/kaggle/input/all-files/camers.csv\n",
      "/kaggle/input/final-train-test/final_test_with_all_features.csv\n",
      "/kaggle/input/final-train-test/final_train_with_all_features.csv\n"
     ]
    }
   ],
   "source": [
    "\n",
    "import numpy as np # linear algebra\n",
    "import pandas as pd # data processing, CSV file I/O (e.g. pd.read_csv)\n",
    "import geopandas # Геоданные\n",
    "from shapely import wkt, wkb # Для перевода геоданных из 16-ричного формата\n",
    "from shapely.geometry import Point, Polygon # импорт геометрии\n",
    "from matplotlib import pyplot as plt\n",
    "import seaborn as sns\n",
    "\n",
    "import os\n",
    "for dirname, _, filenames in os.walk('/kaggle/input'):\n",
    "    for filename in filenames:\n",
    "        print(os.path.join(dirname, filename))\n"
   ]
  },
  {
   "cell_type": "markdown",
   "metadata": {},
   "source": [
    "# Import data"
   ]
  },
  {
   "cell_type": "code",
   "execution_count": 2,
   "metadata": {
    "_cell_guid": "79c7e3d0-c299-4dcb-8224-4455121ee9b0",
    "_uuid": "d629ff2d2480ee46fbb7e2d37f6b5fab8052498a"
   },
   "outputs": [],
   "source": [
    "velocity = pd.read_csv('../input/all-files/velocity.csv', sep=';', decimal=\",\")\n",
    "sets = pd.read_csv('../input/all-files/set.csv', sep=';')\n",
    "remont = pd.read_csv('../input/all-files/remont.csv', sep=';')\n",
    "camers = pd.read_csv('../input/all-files/camers.csv', sep=';')\n",
    "train_new = pd.read_csv('../input/train-new/train_new.csv', low_memory=False)"
   ]
  },
  {
   "cell_type": "code",
   "execution_count": 3,
   "metadata": {},
   "outputs": [],
   "source": [
    "xakaton_test = pd.read_csv('../input/train-test/xakaton_test.csv')\n",
    "xakaton_train = pd.read_csv('../input/train-test/xakaton_train.csv')"
   ]
  },
  {
   "cell_type": "markdown",
   "metadata": {},
   "source": [
    "# Merge data"
   ]
  },
  {
   "cell_type": "code",
   "execution_count": 4,
   "metadata": {},
   "outputs": [
    {
     "name": "stdout",
     "output_type": "stream",
     "text": [
      "xakaton_train_with_graf:  (875478, 36)\n",
      "xakaton_train_with_graf_with_set:  (875478, 39)\n",
      "xakaton_test_with_graf:  (87330, 35)\n",
      "xakaton_test_with_graf_with_set:  (87330, 38)\n"
     ]
    }
   ],
   "source": [
    "xakaton_train_with_graf = xakaton_train.fillna(0).merge(train_new, on='id')\n",
    "print('xakaton_train_with_graf: ', xakaton_train_with_graf.shape)\n",
    "xakaton_train_with_graf_with_set = xakaton_train_with_graf.merge(sets, left_on='id', right_on='EDGEID', how='left',  right_index=True)\n",
    "print('xakaton_train_with_graf_with_set: ', xakaton_train_with_graf_with_set.shape)\n",
    "xakaton_test_with_graf = xakaton_test.merge(train_new, on='id', how='left')\n",
    "print('xakaton_test_with_graf: ', xakaton_test_with_graf.shape)\n",
    "xakaton_test_with_graf_with_set = xakaton_test_with_graf.merge(sets, \n",
    "                                                               left_on='id',\n",
    "                                                               right_on='EDGEID',\n",
    "                                                               how='left',\n",
    "                                                              right_index=True)\n",
    "print('xakaton_test_with_graf_with_set: ', xakaton_test_with_graf_with_set.shape)"
   ]
  },
  {
   "cell_type": "markdown",
   "metadata": {},
   "source": [
    "# Создадим необходимые столбцы в данных тест и трейн"
   ]
  },
  {
   "cell_type": "code",
   "execution_count": 5,
   "metadata": {},
   "outputs": [],
   "source": [
    "xakaton_train_with_graf_with_set['avg_check_speed'] = 0\n",
    "xakaton_train_with_graf_with_set['cnt_fix'] = 0\n",
    "xakaton_train_with_graf_with_set['closed_lines'] = 0\n",
    "\n",
    "xakaton_test_with_graf_with_set['avg_check_speed'] = 0\n",
    "xakaton_test_with_graf_with_set['cnt_fix'] = 0\n",
    "xakaton_test_with_graf_with_set['closed_lines'] = 0"
   ]
  },
  {
   "cell_type": "markdown",
   "metadata": {},
   "source": [
    "# Для работы с координатами используем geopandas, shapely "
   ]
  },
  {
   "cell_type": "code",
   "execution_count": 7,
   "metadata": {},
   "outputs": [],
   "source": [
    "dataset_train_geom = geopandas.GeoDataFrame()\n",
    "dataset_test_geom = geopandas.GeoDataFrame()\n",
    "remont_geom = geopandas.GeoDataFrame()"
   ]
  },
  {
   "cell_type": "code",
   "execution_count": 8,
   "metadata": {},
   "outputs": [],
   "source": [
    "dataset_train_geom['geometry_road'] = xakaton_train_with_graf_with_set['geom_buffer'].apply(wkt.loads)\n",
    "dataset_train_geom['geometry_road'] = geopandas.GeoSeries(dataset_train_geom['geometry_road'])\n",
    "dataset_test_geom['geometry_road'] = xakaton_test_with_graf['geom_buffer'].apply(wkt.loads)\n",
    "dataset_test_geom['geometry_road'] = geopandas.GeoSeries(dataset_test_geom['geometry_road'])"
   ]
  },
  {
   "cell_type": "markdown",
   "metadata": {},
   "source": [
    "# Merge данных по камерам и создание столбца с геометрией камер"
   ]
  },
  {
   "cell_type": "code",
   "execution_count": 9,
   "metadata": {},
   "outputs": [],
   "source": [
    "data_camera = camers.merge(velocity, left_on='camera', right_on='camera_id')\n",
    "all_camers = data_camera.groupby(['camera'], as_index=False).agg({'avg_check_speed': 'mean',\n",
    "                                                        'cnt_fix': 'mean',\n",
    "                                                                 'x': 'first',\n",
    "                                                                 'y': 'first'})\n"
   ]
  },
  {
   "cell_type": "code",
   "execution_count": 10,
   "metadata": {},
   "outputs": [],
   "source": [
    "cam = geopandas.GeoDataFrame()\n",
    "lst_of_camers = []\n",
    "for i in range(len(all_camers)):\n",
    "    lst_of_camers += [Point(all_camers.y[i], all_camers.x[i])]\n",
    "\n",
    "cam['geometry_cams'] = geopandas.GeoSeries(lst_of_camers)\n",
    "    "
   ]
  },
  {
   "cell_type": "markdown",
   "metadata": {},
   "source": [
    "# Проверяем, содержится ли геометрия камеры (точка) в геометрии дорог (полигон), если содержится, приписываем данные с камер к соответствующей дороге"
   ]
  },
  {
   "cell_type": "code",
   "execution_count": 11,
   "metadata": {},
   "outputs": [
    {
     "name": "stderr",
     "output_type": "stream",
     "text": [
      "/opt/conda/lib/python3.7/site-packages/pandas/core/indexing.py:670: SettingWithCopyWarning: \n",
      "A value is trying to be set on a copy of a slice from a DataFrame\n",
      "\n",
      "See the caveats in the documentation: https://pandas.pydata.org/pandas-docs/stable/user_guide/indexing.html#returning-a-view-versus-a-copy\n",
      "  iloc._setitem_with_indexer(indexer, value)\n"
     ]
    },
    {
     "name": "stdout",
     "output_type": "stream",
     "text": [
      "0\n",
      "25\n",
      "50\n",
      "75\n",
      "100\n",
      "125\n",
      "150\n",
      "175\n",
      "200\n",
      "225\n",
      "250\n",
      "275\n",
      "300\n",
      "325\n",
      "350\n",
      "375\n",
      "400\n",
      "425\n",
      "450\n",
      "475\n",
      "500\n",
      "525\n",
      "550\n",
      "575\n",
      "600\n",
      "625\n",
      "650\n",
      "675\n",
      "700\n",
      "725\n",
      "750\n",
      "775\n",
      "800\n",
      "825\n",
      "850\n",
      "875\n",
      "900\n",
      "925\n",
      "950\n",
      "975\n",
      "1000\n",
      "1025\n",
      "1050\n",
      "1075\n",
      "1100\n",
      "1125\n",
      "1150\n",
      "1175\n",
      "CPU times: user 3h 39min 47s, sys: 3.32 s, total: 3h 39min 51s\n",
      "Wall time: 3h 39min 52s\n"
     ]
    }
   ],
   "source": [
    "%%time\n",
    "for i in range(len(cam['geometry_cams'])):\n",
    "    xakaton_train_with_graf_with_set['avg_check_speed'].loc[dataset_train_geom['geometry_road'].contains(cam['geometry_cams'][i])] = all_camers['avg_check_speed'][i]\n",
    "    xakaton_train_with_graf_with_set['cnt_fix'].loc[dataset_train_geom['geometry_road'].contains(cam['geometry_cams'][i])] = all_camers['cnt_fix'][i]\n",
    "    xakaton_test_with_graf_with_set['avg_check_speed'].loc[dataset_test_geom['geometry_road'].contains(cam['geometry_cams'][i])] = all_camers['avg_check_speed'][i]\n",
    "    xakaton_test_with_graf_with_set['cnt_fix'].loc[dataset_test_geom['geometry_road'].contains(cam['geometry_cams'][i])] = all_camers['cnt_fix'][i]\n",
    "    if i % 25 == 0:\n",
    "        print(i)"
   ]
  },
  {
   "cell_type": "code",
   "execution_count": 15,
   "metadata": {},
   "outputs": [],
   "source": [
    "xakaton_train_with_graf_with_set.to_csv('xakaton_train_with_graf_with_set_vrycnyu.csv')"
   ]
  },
  {
   "cell_type": "code",
   "execution_count": 16,
   "metadata": {},
   "outputs": [],
   "source": [
    "xakaton_test_with_graf_with_set.to_csv('xakaton_test_with_graf_with_set_vrycnyu.csv')"
   ]
  }
 ],
 "metadata": {
  "kernelspec": {
   "display_name": "Python 3",
   "language": "python",
   "name": "python3"
  },
  "language_info": {
   "codemirror_mode": {
    "name": "ipython",
    "version": 3
   },
   "file_extension": ".py",
   "mimetype": "text/x-python",
   "name": "python",
   "nbconvert_exporter": "python",
   "pygments_lexer": "ipython3",
   "version": "3.8.3"
  }
 },
 "nbformat": 4,
 "nbformat_minor": 4
}
