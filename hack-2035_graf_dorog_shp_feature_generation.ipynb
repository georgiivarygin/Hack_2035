{
 "cells": [
  {
   "cell_type": "code",
   "execution_count": 1,
   "metadata": {
    "_cell_guid": "b1076dfc-b9ad-4769-8c92-a6c4dae69d19",
    "_uuid": "8f2839f25d086af736a60e9eeb907d3b93b6e0e5",
    "execution": {
     "iopub.execute_input": "2020-11-15T19:04:00.869825Z",
     "iopub.status.busy": "2020-11-15T19:04:00.868953Z",
     "iopub.status.idle": "2020-11-15T19:04:00.879591Z",
     "shell.execute_reply": "2020-11-15T19:04:00.878816Z"
    },
    "papermill": {
     "duration": 0.035563,
     "end_time": "2020-11-15T19:04:00.879739",
     "exception": false,
     "start_time": "2020-11-15T19:04:00.844176",
     "status": "completed"
    },
    "tags": []
   },
   "outputs": [
    {
     "name": "stdout",
     "output_type": "stream",
     "text": [
      "/kaggle/input/uhfaljhjuu/.csv\n",
      "/kaggle/input/1geopandas/3.shp\n",
      "/kaggle/input/uhfaljhju/╨ô╤Ç╨░╤ä ╨┤╨╛╤Ç╨╛╨│ ╨£╨╛╤ü╨║╨▓╤ï.prj\n",
      "/kaggle/input/uhfaljhju/╨ô╤Ç╨░╤ä ╨┤╨╛╤Ç╨╛╨│ ╨£╨╛╤ü╨║╨▓╤ï.shp\n",
      "/kaggle/input/uhfaljhju/╨ô╤Ç╨░╤ä ╨┤╨╛╤Ç╨╛╨│ ╨£╨╛╤ü╨║╨▓╤ï.cpg\n",
      "/kaggle/input/uhfaljhju/╨ô╤Ç╨░╤ä ╨┤╨╛╤Ç╨╛╨│ ╨£╨╛╤ü╨║╨▓╤ï.dbf\n",
      "/kaggle/input/uhfaljhju/╨ô╤Ç╨░╤ä ╨┤╨╛╤Ç╨╛╨│ ╨£╨╛╤ü╨║╨▓╤ï.qpj\n",
      "/kaggle/input/uhfaljhju/╨ô╤Ç╨░╤ä ╨┤╨╛╤Ç╨╛╨│ ╨£╨╛╤ü╨║╨▓╤ï.shx\n"
     ]
    }
   ],
   "source": [
    "import numpy as np # linear algebra\n",
    "import pandas as pd # data processing, CSV file I/O (e.g. pd.read_csv)\n",
    "import geopandas\n",
    "from shapely import wkt\n",
    "import os\n",
    "for dirname, _, filenames in os.walk('/kaggle/input'):\n",
    "    for filename in filenames:\n",
    "        print(os.path.join(dirname, filename))"
   ]
  },
  {
   "cell_type": "markdown",
   "metadata": {},
   "source": [
    "# Import граф дорог .shp and .csv"
   ]
  },
  {
   "cell_type": "code",
   "execution_count": 3,
   "metadata": {
    "execution": {
     "iopub.execute_input": "2020-11-15T19:04:02.127429Z",
     "iopub.status.busy": "2020-11-15T19:04:02.090313Z",
     "iopub.status.idle": "2020-11-15T19:05:35.344550Z",
     "shell.execute_reply": "2020-11-15T19:05:35.345233Z"
    },
    "papermill": {
     "duration": 93.395866,
     "end_time": "2020-11-15T19:05:35.345484",
     "exception": false,
     "start_time": "2020-11-15T19:04:01.949618",
     "status": "completed"
    },
    "tags": []
   },
   "outputs": [],
   "source": [
    "graf_dorog_shp = geopandas.read_file('../input/uhfaljhju/╨ô╤Ç╨░╤ä ╨┤╨╛╤Ç╨╛╨│ ╨£╨╛╤ü╨║╨▓╤ï.shp', crs_wkt='EPSG:4326')"
   ]
  },
  {
   "cell_type": "code",
   "execution_count": 4,
   "metadata": {
    "execution": {
     "iopub.execute_input": "2020-11-15T19:05:35.424073Z",
     "iopub.status.busy": "2020-11-15T19:05:35.423132Z",
     "iopub.status.idle": "2020-11-15T19:05:58.807703Z",
     "shell.execute_reply": "2020-11-15T19:05:58.806968Z"
    },
    "papermill": {
     "duration": 23.448145,
     "end_time": "2020-11-15T19:05:58.807894",
     "exception": false,
     "start_time": "2020-11-15T19:05:35.359749",
     "status": "completed"
    },
    "tags": []
   },
   "outputs": [
    {
     "name": "stderr",
     "output_type": "stream",
     "text": [
      "/opt/conda/lib/python3.7/site-packages/IPython/core/interactiveshell.py:3063: DtypeWarning: Columns (22) have mixed types.Specify dtype option on import or set low_memory=False.\n",
      "  interactivity=interactivity, compiler=compiler, result=result)\n"
     ]
    }
   ],
   "source": [
    "graf_dorog_csv = pd.read_csv('../input/uhfaljhjuu/.csv', sep=';')"
   ]
  },
  {
   "cell_type": "markdown",
   "metadata": {},
   "source": [
    "# Построим полигоны из графа дорог"
   ]
  },
  {
   "cell_type": "code",
   "execution_count": 11,
   "metadata": {
    "execution": {
     "iopub.execute_input": "2020-11-15T19:06:58.920318Z",
     "iopub.status.busy": "2020-11-15T19:06:58.919483Z",
     "iopub.status.idle": "2020-11-15T19:09:04.027527Z",
     "shell.execute_reply": "2020-11-15T19:09:04.026752Z"
    },
    "papermill": {
     "duration": 125.131791,
     "end_time": "2020-11-15T19:09:04.027670",
     "exception": false,
     "start_time": "2020-11-15T19:06:58.895879",
     "status": "completed"
    },
    "tags": []
   },
   "outputs": [
    {
     "data": {
      "text/plain": [
       "<matplotlib.axes._subplots.AxesSubplot at 0x7f2ce2165690>"
      ]
     },
     "execution_count": 11,
     "metadata": {},
     "output_type": "execute_result"
    },
    {
     "data": {
      "image/png": "[encoded data removed]",
      "text/plain": [
       "<Figure size 432x288 with 1 Axes>"
      ]
     },
     "metadata": {
      "needs_background": "light"
     },
     "output_type": "display_data"
    }
   ],
   "source": [
    "graf_dorog_shp.geometry.plot()"
   ]
  },
  {
   "cell_type": "markdown",
   "metadata": {},
   "source": [
    "# Создаем фичи с координатами начала и конца полигона, длинной и площадью"
   ]
  },
  {
   "cell_type": "code",
   "execution_count": 13,
   "metadata": {
    "execution": {
     "iopub.execute_input": "2020-11-15T19:09:04.126023Z",
     "iopub.status.busy": "2020-11-15T19:09:04.125111Z",
     "iopub.status.idle": "2020-11-15T19:11:51.370833Z",
     "shell.execute_reply": "2020-11-15T19:11:51.369996Z"
    },
    "papermill": {
     "duration": 167.274117,
     "end_time": "2020-11-15T19:11:51.370989",
     "exception": false,
     "start_time": "2020-11-15T19:09:04.096872",
     "status": "completed"
    },
    "tags": []
   },
   "outputs": [
    {
     "name": "stderr",
     "output_type": "stream",
     "text": [
      "/opt/conda/lib/python3.7/site-packages/ipykernel_launcher.py:6: UserWarning: Geometry is in a geographic CRS. Results from 'length' are likely incorrect. Use 'GeoSeries.to_crs()' to re-project geometries to a projected CRS before this operation.\n",
      "\n",
      "  \n"
     ]
    }
   ],
   "source": [
    "graf_dorog_csv['geom_point_x'] = graf_dorog_shp.geometry.representative_point().x\n",
    "graf_dorog_csv['geom_point_y'] = graf_dorog_shp.geometry.representative_point().y\n",
    "graf_dorog_csv['geom_buffer_point_x'] = graf_dorog_shp.geom_buffer.representative_point().x\n",
    "graf_dorog_csv['geom_buffer_point_y'] = graf_dorog_shp.geom_buffer.representative_point().y\n",
    "graf_dorog_csv['geom_buffer_area'] = graf_dorog_shp.geom_buffer.area\n",
    "graf_dorog_csv['geometry_length'] = graf_dorog_shp.geometry.length\n",
    "graf_dorog_csv['geom_buffer_length'] = graf_dorog_shp.geom_buffer.length"
   ]
  },
  {
   "cell_type": "markdown",
   "metadata": {},
   "source": [
    "# записываем в файл train_new"
   ]
  },
  {
   "cell_type": "code",
   "execution_count": 14,
   "metadata": {
    "execution": {
     "iopub.execute_input": "2020-11-15T19:11:51.418333Z",
     "iopub.status.busy": "2020-11-15T19:11:51.417536Z",
     "iopub.status.idle": "2020-11-15T19:16:42.621096Z",
     "shell.execute_reply": "2020-11-15T19:16:42.619801Z"
    },
    "papermill": {
     "duration": 291.230161,
     "end_time": "2020-11-15T19:16:42.621389",
     "exception": false,
     "start_time": "2020-11-15T19:11:51.391228",
     "status": "completed"
    },
    "tags": []
   },
   "outputs": [],
   "source": [
    "graf_dorog_csv.to_csv('train_new.csv')"
   ]
  }
 ],
 "metadata": {
  "kernelspec": {
   "display_name": "Python 3",
   "language": "python",
   "name": "python3"
  },
  "language_info": {
   "codemirror_mode": {
    "name": "ipython",
    "version": 3
   },
   "file_extension": ".py",
   "mimetype": "text/x-python",
   "name": "python",
   "nbconvert_exporter": "python",
   "pygments_lexer": "ipython3",
   "version": "3.8.3"
  },
  "papermill": {
   "duration": 768.199308,
   "end_time": "2020-11-15T19:16:43.893788",
   "environment_variables": {},
   "exception": null,
   "input_path": "__notebook__.ipynb",
   "output_path": "__notebook__.ipynb",
   "parameters": {},
   "start_time": "2020-11-15T19:03:55.694480",
   "version": "2.1.0"
  }
 },
 "nbformat": 4,
 "nbformat_minor": 4
}
